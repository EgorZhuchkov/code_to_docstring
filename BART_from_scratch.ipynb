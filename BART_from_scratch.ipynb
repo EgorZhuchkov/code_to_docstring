{
 "cells": [
  {
   "cell_type": "code",
   "execution_count": 1,
   "metadata": {
    "colab": {
     "base_uri": "https://localhost:8080/"
    },
    "id": "fbw0mEidjZCY",
    "outputId": "d8449f71-cb14-4853-c15b-6877ea93c5df"
   },
   "outputs": [
    {
     "name": "stdout",
     "output_type": "stream",
     "text": [
      "Requirement already satisfied: transformers in /home/egor/ml_env/lib/python3.9/site-packages (4.8.1)\n",
      "Requirement already satisfied: pyyaml in /home/egor/ml_env/lib/python3.9/site-packages (from transformers) (5.4.1)\n",
      "Requirement already satisfied: sacremoses in /home/egor/ml_env/lib/python3.9/site-packages (from transformers) (0.0.45)\n",
      "Requirement already satisfied: tqdm>=4.27 in /home/egor/ml_env/lib/python3.9/site-packages (from transformers) (4.61.1)\n",
      "Requirement already satisfied: filelock in /home/egor/ml_env/lib/python3.9/site-packages (from transformers) (3.0.12)\n",
      "Requirement already satisfied: requests in /home/egor/ml_env/lib/python3.9/site-packages (from transformers) (2.25.1)\n",
      "Requirement already satisfied: huggingface-hub==0.0.12 in /home/egor/ml_env/lib/python3.9/site-packages (from transformers) (0.0.12)\n",
      "Requirement already satisfied: regex!=2019.12.17 in /home/egor/ml_env/lib/python3.9/site-packages (from transformers) (2021.4.4)\n",
      "Requirement already satisfied: packaging in /home/egor/ml_env/lib/python3.9/site-packages (from transformers) (20.9)\n",
      "Requirement already satisfied: tokenizers<0.11,>=0.10.1 in /home/egor/ml_env/lib/python3.9/site-packages (from transformers) (0.10.3)\n",
      "Requirement already satisfied: numpy>=1.17 in /home/egor/ml_env/lib/python3.9/site-packages (from transformers) (1.21.0)\n",
      "Requirement already satisfied: typing-extensions in /home/egor/ml_env/lib/python3.9/site-packages (from huggingface-hub==0.0.12->transformers) (3.10.0.0)\n",
      "Requirement already satisfied: pyparsing>=2.0.2 in /home/egor/ml_env/lib/python3.9/site-packages (from packaging->transformers) (2.4.7)\n",
      "Requirement already satisfied: idna<3,>=2.5 in /home/egor/ml_env/lib/python3.9/site-packages (from requests->transformers) (2.10)\n",
      "Requirement already satisfied: certifi>=2017.4.17 in /home/egor/ml_env/lib/python3.9/site-packages (from requests->transformers) (2021.5.30)\n",
      "Requirement already satisfied: chardet<5,>=3.0.2 in /home/egor/ml_env/lib/python3.9/site-packages (from requests->transformers) (4.0.0)\n",
      "Requirement already satisfied: urllib3<1.27,>=1.21.1 in /home/egor/ml_env/lib/python3.9/site-packages (from requests->transformers) (1.26.6)\n",
      "Requirement already satisfied: joblib in /home/egor/ml_env/lib/python3.9/site-packages (from sacremoses->transformers) (1.0.1)\n",
      "Requirement already satisfied: click in /home/egor/ml_env/lib/python3.9/site-packages (from sacremoses->transformers) (8.0.1)\n",
      "Requirement already satisfied: six in /home/egor/ml_env/lib/python3.9/site-packages (from sacremoses->transformers) (1.16.0)\n",
      "Requirement already satisfied: sentencepiece in /home/egor/ml_env/lib/python3.9/site-packages (0.1.96)\n",
      "Requirement already satisfied: pandas in /home/egor/ml_env/lib/python3.9/site-packages (1.2.5)\n",
      "Requirement already satisfied: python-dateutil>=2.7.3 in /home/egor/ml_env/lib/python3.9/site-packages (from pandas) (2.8.1)\n",
      "Requirement already satisfied: pytz>=2017.3 in /home/egor/ml_env/lib/python3.9/site-packages (from pandas) (2021.1)\n",
      "Requirement already satisfied: numpy>=1.16.5 in /home/egor/ml_env/lib/python3.9/site-packages (from pandas) (1.21.0)\n",
      "Requirement already satisfied: six>=1.5 in /home/egor/ml_env/lib/python3.9/site-packages (from python-dateutil>=2.7.3->pandas) (1.16.0)\n"
     ]
    }
   ],
   "source": [
    "!pip install --upgrade transformers\n",
    "!pip install sentencepiece\n",
    "!pip install pandas"
   ]
  },
  {
   "cell_type": "code",
   "execution_count": 2,
   "metadata": {
    "id": "hhQXskcJFZ2u"
   },
   "outputs": [],
   "source": [
    "import re\n",
    "import io\n",
    "import os\n",
    "import glob\n",
    "import tokenize\n",
    "import sentencepiece as sp\n",
    "import pandas as pd\n",
    "import numpy as np\n",
    "from tqdm.notebook import tqdm\n",
    "\n",
    "import torch\n",
    "from torch.utils.data import Dataset, DataLoader\n",
    "from torch.nn.utils.rnn import pad_sequence\n",
    "\n",
    "from transformers import get_constant_schedule_with_warmup\n",
    "from transformers.models.t5 import T5Model, T5Config, T5ForConditionalGeneration\n",
    "from transformers.models.bart import BartForConditionalGeneration, BartConfig"
   ]
  },
  {
   "cell_type": "code",
   "execution_count": 3,
   "metadata": {
    "id": "ERb8ACZujZCg"
   },
   "outputs": [],
   "source": [
    "# Constants\n",
    "\n",
    "path = \".\"\n",
    "MODEL_VERSION = 'result'\n",
    "SAMPLE_SIZE = 0.4\n",
    "VOCAB_SIZE = 24_000\n",
    "P_BPE = 0.2\n",
    "D_MODEL = 512\n",
    "NUM_LAYERS = 6\n",
    "NUM_DECODER_LAYERS = 6\n",
    "D_FF = 1024\n",
    "NUM_HEADS = 8\n",
    "DROPOUT_RATE = 0.1\n",
    "LEARNING_RATE = 5e-5\n",
    "NUM_WARMUP_STEPS = 500\n",
    "TRAIN_BATCH_SIZE = 8\n",
    "VAL_BATCH_SIZE = 8\n",
    "MAX_EPOCHS = 8\n",
    "PATIENCE = 0"
   ]
  },
  {
   "cell_type": "code",
   "execution_count": 4,
   "metadata": {
    "id": "ASNJxTb2Bl-X"
   },
   "outputs": [
    {
     "name": "stdout",
     "output_type": "stream",
     "text": [
      "Archive:  python.zip\n",
      "   creating: python/\n",
      "   creating: python/final/\n",
      "   creating: python/final/jsonl/\n",
      "   creating: python/final/jsonl/train/\n",
      "  inflating: python/final/jsonl/train/python_train_9.jsonl.gz  \n",
      "  inflating: python/final/jsonl/train/python_train_12.jsonl.gz  \n",
      "  inflating: python/final/jsonl/train/python_train_10.jsonl.gz  \n",
      "  inflating: python/final/jsonl/train/python_train_0.jsonl.gz  \n",
      "  inflating: python/final/jsonl/train/python_train_6.jsonl.gz  \n",
      "  inflating: python/final/jsonl/train/python_train_2.jsonl.gz  \n",
      "  inflating: python/final/jsonl/train/python_train_4.jsonl.gz  \n",
      "  inflating: python/final/jsonl/train/python_train_8.jsonl.gz  \n",
      "  inflating: python/final/jsonl/train/python_train_11.jsonl.gz  \n",
      "  inflating: python/final/jsonl/train/python_train_5.jsonl.gz  \n",
      "  inflating: python/final/jsonl/train/python_train_13.jsonl.gz  \n",
      "  inflating: python/final/jsonl/train/python_train_3.jsonl.gz  \n",
      "  inflating: python/final/jsonl/train/python_train_1.jsonl.gz  \n",
      "  inflating: python/final/jsonl/train/python_train_7.jsonl.gz  \n",
      "   creating: python/final/jsonl/test/\n",
      "  inflating: python/final/jsonl/test/python_test_0.jsonl.gz  \n",
      "   creating: python/final/jsonl/valid/\n",
      "  inflating: python/final/jsonl/valid/python_valid_0.jsonl.gz  \n",
      "  inflating: python_dedupe_definitions_v2.pkl  \n",
      "  inflating: python_licenses.pkl     \n"
     ]
    }
   ],
   "source": [
    "# ! wget https://s3.amazonaws.com/code-search-net/CodeSearchNet/v2/python.zip\n",
    "! unzip python.zip"
   ]
  },
  {
   "cell_type": "code",
   "execution_count": 5,
   "metadata": {
    "colab": {
     "base_uri": "https://localhost:8080/",
     "height": 266
    },
    "id": "KTPe8ECFJTQ8",
    "outputId": "3f00ed77-01d5-410f-ab03-b4d34ca790a7"
   },
   "outputs": [
    {
     "name": "stdout",
     "output_type": "stream",
     "text": [
      "['python/final/jsonl/train/python_train_0.jsonl.gz', 'python/final/jsonl/train/python_train_1.jsonl.gz', 'python/final/jsonl/train/python_train_10.jsonl.gz', 'python/final/jsonl/train/python_train_11.jsonl.gz', 'python/final/jsonl/train/python_train_12.jsonl.gz', 'python/final/jsonl/train/python_train_13.jsonl.gz', 'python/final/jsonl/train/python_train_2.jsonl.gz', 'python/final/jsonl/train/python_train_3.jsonl.gz', 'python/final/jsonl/train/python_train_4.jsonl.gz', 'python/final/jsonl/train/python_train_5.jsonl.gz', 'python/final/jsonl/train/python_train_6.jsonl.gz', 'python/final/jsonl/train/python_train_7.jsonl.gz', 'python/final/jsonl/train/python_train_8.jsonl.gz', 'python/final/jsonl/train/python_train_9.jsonl.gz']\n",
      "['python/final/jsonl/valid/python_valid_0.jsonl.gz']\n",
      "['python/final/jsonl/test/python_test_0.jsonl.gz']\n"
     ]
    },
    {
     "data": {
      "text/html": [
       "<div>\n",
       "<style scoped>\n",
       "    .dataframe tbody tr th:only-of-type {\n",
       "        vertical-align: middle;\n",
       "    }\n",
       "\n",
       "    .dataframe tbody tr th {\n",
       "        vertical-align: top;\n",
       "    }\n",
       "\n",
       "    .dataframe thead th {\n",
       "        text-align: right;\n",
       "    }\n",
       "</style>\n",
       "<table border=\"1\" class=\"dataframe\">\n",
       "  <thead>\n",
       "    <tr style=\"text-align: right;\">\n",
       "      <th></th>\n",
       "      <th>code</th>\n",
       "      <th>docstring</th>\n",
       "    </tr>\n",
       "  </thead>\n",
       "  <tbody>\n",
       "    <tr>\n",
       "      <th>0</th>\n",
       "      <td>def train(train_dir, model_save_path=None, n_n...</td>\n",
       "      <td>Trains a k-nearest neighbors classifier for fa...</td>\n",
       "    </tr>\n",
       "    <tr>\n",
       "      <th>1</th>\n",
       "      <td>def predict(X_img_path, knn_clf=None, model_pa...</td>\n",
       "      <td>Recognizes faces in given image using a traine...</td>\n",
       "    </tr>\n",
       "    <tr>\n",
       "      <th>2</th>\n",
       "      <td>def show_prediction_labels_on_image(img_path, ...</td>\n",
       "      <td>Shows the face recognition results visually.\\n...</td>\n",
       "    </tr>\n",
       "    <tr>\n",
       "      <th>3</th>\n",
       "      <td>def _rect_to_css(rect):\\n    \"\"\"\\n    Convert ...</td>\n",
       "      <td>Convert a dlib 'rect' object to a plain tuple ...</td>\n",
       "    </tr>\n",
       "    <tr>\n",
       "      <th>4</th>\n",
       "      <td>def _trim_css_to_bounds(css, image_shape):\\n  ...</td>\n",
       "      <td>Make sure a tuple in (top, right, bottom, left...</td>\n",
       "    </tr>\n",
       "  </tbody>\n",
       "</table>\n",
       "</div>"
      ],
      "text/plain": [
       "                                                code  \\\n",
       "0  def train(train_dir, model_save_path=None, n_n...   \n",
       "1  def predict(X_img_path, knn_clf=None, model_pa...   \n",
       "2  def show_prediction_labels_on_image(img_path, ...   \n",
       "3  def _rect_to_css(rect):\\n    \"\"\"\\n    Convert ...   \n",
       "4  def _trim_css_to_bounds(css, image_shape):\\n  ...   \n",
       "\n",
       "                                           docstring  \n",
       "0  Trains a k-nearest neighbors classifier for fa...  \n",
       "1  Recognizes faces in given image using a traine...  \n",
       "2  Shows the face recognition results visually.\\n...  \n",
       "3  Convert a dlib 'rect' object to a plain tuple ...  \n",
       "4  Make sure a tuple in (top, right, bottom, left...  "
      ]
     },
     "execution_count": 5,
     "metadata": {},
     "output_type": "execute_result"
    }
   ],
   "source": [
    "def jsonl_list_to_dataframe(file_list, columns=None):\n",
    "    \"\"\"Load a list of jsonl.gz files into a pandas DataFrame.\"\"\"\n",
    "    return pd.concat([pd.read_json(f,\n",
    "                                   orient='records', \n",
    "                                   compression='gzip',\n",
    "                                   lines=True)[columns] \n",
    "                      for f in file_list], sort=False)\n",
    "\n",
    "def get_dfs(path):\n",
    "    \"\"\"Grabs the different data splits and converts them into dataframes\"\"\"\n",
    "    dfs = []\n",
    "    for split in [\"train\", \"valid\", \"test\"]:\n",
    "        split_dir = os.path.join(path, split)\n",
    "        files = []\n",
    "        for file in os.listdir(split_dir):\n",
    "            if file.endswith('.gz'):\n",
    "                files.append(os.path.join(split_dir, file))\n",
    "        files = sorted(files)\n",
    "        print(files)\n",
    "        df = jsonl_list_to_dataframe(files, [\"code\", \"docstring\"])\n",
    "        dfs.append(df)\n",
    "        \n",
    "    return dfs\n",
    "\n",
    "df_trn, df_val, df_tst = get_dfs(\"python/final/jsonl\")\n",
    "df_trn.head()"
   ]
  },
  {
   "cell_type": "code",
   "execution_count": 6,
   "metadata": {
    "id": "-2t_qnopKBQ_"
   },
   "outputs": [],
   "source": [
    "def isASCII(s):\n",
    "    try:\n",
    "        s.encode(encoding='utf-8').decode('ascii')\n",
    "    except UnicodeDecodeError:\n",
    "        return False\n",
    "    else:\n",
    "        return True\n",
    "\n",
    "df_trn = df_trn.sample(frac = SAMPLE_SIZE)\n",
    "df_val = df_val.sample(frac = SAMPLE_SIZE)\n",
    "df_tst = df_tst.sample(frac = SAMPLE_SIZE)\n",
    "\n",
    "df_trn = df_trn[df_trn['docstring'].apply(lambda x: isASCII(x))]\n",
    "df_val = df_val[df_val['docstring'].apply(lambda x: isASCII(x))]\n",
    "df_tst = df_tst[df_tst['docstring'].apply(lambda x: isASCII(x))]\n",
    "\n",
    "df_trn = df_trn[df_trn['code'].apply(lambda x: isASCII(x))]\n",
    "df_val = df_val[df_val['code'].apply(lambda x: isASCII(x))]\n",
    "df_tst = df_tst[df_tst['code'].apply(lambda x: isASCII(x))]"
   ]
  },
  {
   "cell_type": "code",
   "execution_count": 7,
   "metadata": {
    "colab": {
     "base_uri": "https://localhost:8080/",
     "height": 163,
     "referenced_widgets": [
      "3a0d782f37e645fe9445b1fdc3acfde9",
      "065c90a0fb96402695ecb3d0723bea64",
      "a6bc9d0d8020406f85570c441ebb03a9",
      "7763b7074338498cbdd0ce8fa9534564",
      "3d82364d3bef42fcb15d324891e709e3",
      "dc4a36e3d20f466db30c766b9cad498e",
      "cdc8cb62d0e1416e90c791544be95f66",
      "d4c264c0f19a4265af7148ac0814b48d",
      "58411f1b150249a39158f7ed1e254206",
      "ac1cc59595cd40af90daa26387f853f0",
      "a6eb37f358354c1abd67c876691036c9",
      "4c05e986759b450abe976683f157af42",
      "fb595b0e7fad4cf99bb5f226baaa56c6",
      "db68a029d1cf44ea901142753a0a63a1",
      "5040d47de6a54a4eb48097a58a2dab1d",
      "32ce0ac9d280447587bd4eda65a190d4",
      "9da5f0d18a72477db595f3fb5b404a4c",
      "7d17b5188a924dabbb4d4962d7b826ab",
      "fb257000c67142a9b2e7cac50f879922",
      "cc1e493375c84e55a5e2e7640671d66b",
      "851cf5a5b35142299d2761f0742841a6",
      "464a8630bb5344be9af17d2e3b234544",
      "41836f7bf92c4cc5b7d0ed6753d7566f",
      "1bd81390f4d7430e981c1f13a1c79d7f"
     ]
    },
    "id": "VV0X7smOKFaf",
    "outputId": "4d76114f-19b7-4afe-e6cf-39a9b1c1d621"
   },
   "outputs": [
    {
     "data": {
      "application/vnd.jupyter.widget-view+json": {
       "model_id": "21f987d1932b45bc95b137806d1323f5",
       "version_major": 2,
       "version_minor": 0
      },
      "text/plain": [
       "  0%|          | 0/162210 [00:00<?, ?it/s]"
      ]
     },
     "metadata": {},
     "output_type": "display_data"
    },
    {
     "data": {
      "application/vnd.jupyter.widget-view+json": {
       "model_id": "0c8be79a64ea4fff9f9a19f6c7268749",
       "version_major": 2,
       "version_minor": 0
      },
      "text/plain": [
       "  0%|          | 0/9010 [00:00<?, ?it/s]"
      ]
     },
     "metadata": {},
     "output_type": "display_data"
    },
    {
     "data": {
      "application/vnd.jupyter.widget-view+json": {
       "model_id": "0c5e7f98dae0459babb6dd3e20185262",
       "version_major": 2,
       "version_minor": 0
      },
      "text/plain": [
       "  0%|          | 0/8788 [00:00<?, ?it/s]"
      ]
     },
     "metadata": {},
     "output_type": "display_data"
    }
   ],
   "source": [
    "def remove_comments_and_docstrings(source):\n",
    "    io_obj = io.StringIO(source)\n",
    "    out = \"\"\n",
    "    prev_toktype = tokenize.INDENT\n",
    "    last_lineno = -1\n",
    "    last_col = 0\n",
    "    for tok in tokenize.generate_tokens(io_obj.readline):\n",
    "        token_type = tok[0]\n",
    "        token_string = tok[1]\n",
    "        start_line, start_col = tok[2]\n",
    "        end_line, end_col = tok[3]\n",
    "        ltext = tok[4]\n",
    "        if start_line > last_lineno:\n",
    "            last_col = 0\n",
    "        if start_col > last_col:\n",
    "            out += (\" \" * (start_col - last_col))\n",
    "        if token_type == tokenize.COMMENT:\n",
    "            pass\n",
    "        elif token_type == tokenize.STRING:\n",
    "            if prev_toktype != tokenize.INDENT:\n",
    "                if prev_toktype != tokenize.NEWLINE:\n",
    "                    if start_col > 0:\n",
    "                        out += token_string\n",
    "        else:\n",
    "            out += token_string\n",
    "        prev_toktype = token_type\n",
    "        last_col = end_col\n",
    "        last_lineno = end_line\n",
    "    out = '\\n'.join(l for l in out.splitlines() if l.strip())\n",
    "    return out\n",
    "\n",
    "def filter_docstrings(df):\n",
    "    methods = []\n",
    "    comments = []\n",
    "    for i, row in tqdm(list(df.iterrows())):\n",
    "        code = row[\"code\"]\n",
    "        methods.append(remove_comments_and_docstrings(code))\n",
    "        comments.append(row[\"docstring\"]) \n",
    "        \n",
    "    new_df = pd.DataFrame(zip(methods, comments), columns = [\"code\", \"docstring\"])\n",
    "\n",
    "    return new_df\n",
    "\n",
    "df_trn = filter_docstrings(df_trn);\n",
    "df_val = filter_docstrings(df_val);\n",
    "df_tst = filter_docstrings(df_tst);"
   ]
  },
  {
   "cell_type": "code",
   "execution_count": 8,
   "metadata": {
    "colab": {
     "base_uri": "https://localhost:8080/"
    },
    "id": "YWhOpLEOKb96",
    "outputId": "41a41929-f8ae-49e5-db4e-8d6b1dda3b5c"
   },
   "outputs": [
    {
     "data": {
      "text/plain": [
       "(157263, 8854, 8660)"
      ]
     },
     "execution_count": 8,
     "metadata": {},
     "output_type": "execute_result"
    }
   ],
   "source": [
    "df_trn = df_trn[~(df_trn['docstring'] == '')]\n",
    "df_val = df_val[~(df_val['docstring'] == '')]\n",
    "df_tst = df_tst[~(df_tst['docstring'] == '')]\n",
    "\n",
    "df_trn = df_trn[~df_trn['docstring'].duplicated()]\n",
    "df_val = df_val[~df_val['docstring'].duplicated()]\n",
    "df_tst = df_tst[~df_tst['docstring'].duplicated()]\n",
    "\n",
    "len(df_trn), len(df_val), len(df_tst)"
   ]
  },
  {
   "cell_type": "code",
   "execution_count": 9,
   "metadata": {
    "colab": {
     "base_uri": "https://localhost:8080/"
    },
    "id": "bH9pjtHcjZCp",
    "outputId": "1f7c1d15-186f-4fba-cfd2-240de8cea68d"
   },
   "outputs": [
    {
     "data": {
      "text/plain": [
       "<map at 0x7f5ddba8b1f0>"
      ]
     },
     "execution_count": 9,
     "metadata": {},
     "output_type": "execute_result"
    }
   ],
   "source": [
    "df_trn.itertuples()"
   ]
  },
  {
   "cell_type": "code",
   "execution_count": 10,
   "metadata": {
    "id": "GRHsG6LTKix1"
   },
   "outputs": [],
   "source": [
    "def df_to_txt_file(df, output, cols):\n",
    "    \"\"\"Converts a dataframe and converts it into a text file that SentencePiece can use to train a BPE model\"\"\"\n",
    "    file_path = os.path.join(output,'text.txt')\n",
    "    with open(file_path, 'w') as f:\n",
    "        for i, col in enumerate(cols):\n",
    "            f.write('\\n'.join(list(df[col])))\n",
    "            f.write('\\n')\n",
    "            \n",
    "    return file_path\n",
    "\n",
    "def gen_sp_model(df, output, tokenizer_name, cols, vocab_size=8000):\n",
    "    \"\"\"Trains a SentencePiece BPE model from a pandas dataframe\"\"\"\n",
    "    fname = df_to_txt_file(df, output, cols)\n",
    "    sp.SentencePieceTrainer.train(f'--input={fname} --model_prefix={os.path.join(output, tokenizer_name)}'\\\n",
    "                                  f' --hard_vocab_limit=false --vocab_size={vocab_size}'\\\n",
    "                                  ' --unk_id=0 --pad_id=1 --bos_id=2 --eos_id=3')"
   ]
  },
  {
   "cell_type": "code",
   "execution_count": 11,
   "metadata": {
    "id": "6s6mgOhcjZCq"
   },
   "outputs": [],
   "source": [
    "# os.makedirs('shared_bpe', exist_ok=True)"
   ]
  },
  {
   "cell_type": "code",
   "execution_count": 12,
   "metadata": {
    "id": "K3HnU9rOjZCr"
   },
   "outputs": [],
   "source": [
    "shared_bpe_path = 'shared_bpe'"
   ]
  },
  {
   "cell_type": "code",
   "execution_count": 13,
   "metadata": {
    "id": "-AlUT0BJKlj0"
   },
   "outputs": [],
   "source": [
    "shared_tokenizer = 'shared_bpe'\n",
    "# gen_sp_model(df_trn.sample(frac = P_BPE), 'shared_bpe', shared_tokenizer, [\"code\", \"docstring\"], vocab_size=VOCAB_SIZE)"
   ]
  },
  {
   "cell_type": "code",
   "execution_count": 14,
   "metadata": {
    "colab": {
     "base_uri": "https://localhost:8080/"
    },
    "id": "77EUPTkzjZCs",
    "outputId": "f1a22cb1-f4e2-4494-df63-addb2dde05b3"
   },
   "outputs": [
    {
     "data": {
      "text/plain": [
       "True"
      ]
     },
     "execution_count": 14,
     "metadata": {},
     "output_type": "execute_result"
    }
   ],
   "source": [
    "shared_spm = sp.SentencePieceProcessor()\n",
    "shared_spm.Load(os.path.join(shared_bpe_path, shared_tokenizer + '.model'))"
   ]
  },
  {
   "cell_type": "code",
   "execution_count": 15,
   "metadata": {
    "colab": {
     "base_uri": "https://localhost:8080/"
    },
    "id": "j02GrZgkjZCt",
    "outputId": "317015ae-6b3c-481e-b7f5-5a6c7dd31f19"
   },
   "outputs": [
    {
     "data": {
      "text/plain": [
       "[25, 3244, 7, 82, 6, 165, 17]"
      ]
     },
     "execution_count": 15,
     "metadata": {},
     "output_type": "execute_result"
    }
   ],
   "source": [
    "shared_spm.encode_as_ids(\"def bar(x,y):\")"
   ]
  },
  {
   "cell_type": "code",
   "execution_count": 16,
   "metadata": {
    "colab": {
     "base_uri": "https://localhost:8080/"
    },
    "id": "Z25Szv3bjZCt",
    "outputId": "427b164b-10dc-4142-8981-a5856dce197b"
   },
   "outputs": [
    {
     "data": {
      "text/plain": [
       "['▁def', '▁bar', '(', 'x', ',', 'y', '):']"
      ]
     },
     "execution_count": 16,
     "metadata": {},
     "output_type": "execute_result"
    }
   ],
   "source": [
    "shared_spm.encode_as_pieces(\"def bar(x,y):\")"
   ]
  },
  {
   "cell_type": "code",
   "execution_count": 17,
   "metadata": {
    "colab": {
     "base_uri": "https://localhost:8080/"
    },
    "id": "5D9gVmoTjZCu",
    "outputId": "9242dbf9-2846-49eb-8e05-42eaa27ea4b0"
   },
   "outputs": [
    {
     "data": {
      "text/plain": [
       "[2, 25, 3244, 7, 82, 6, 165, 17, 3]"
      ]
     },
     "execution_count": 17,
     "metadata": {},
     "output_type": "execute_result"
    }
   ],
   "source": [
    "en = shared_spm.tokenize(\"def bar(x,y):\", int,add_bos=True, add_eos=True,)\n",
    "en"
   ]
  },
  {
   "cell_type": "code",
   "execution_count": 18,
   "metadata": {
    "colab": {
     "base_uri": "https://localhost:8080/",
     "height": 195
    },
    "id": "36xWvHlcjZCu",
    "outputId": "6443a877-95e1-4eb9-f7ef-9a144cb5edfd"
   },
   "outputs": [
    {
     "data": {
      "text/html": [
       "<div>\n",
       "<style scoped>\n",
       "    .dataframe tbody tr th:only-of-type {\n",
       "        vertical-align: middle;\n",
       "    }\n",
       "\n",
       "    .dataframe tbody tr th {\n",
       "        vertical-align: top;\n",
       "    }\n",
       "\n",
       "    .dataframe thead th {\n",
       "        text-align: right;\n",
       "    }\n",
       "</style>\n",
       "<table border=\"1\" class=\"dataframe\">\n",
       "  <thead>\n",
       "    <tr style=\"text-align: right;\">\n",
       "      <th></th>\n",
       "      <th>code</th>\n",
       "      <th>docstring</th>\n",
       "    </tr>\n",
       "  </thead>\n",
       "  <tbody>\n",
       "    <tr>\n",
       "      <th>0</th>\n",
       "      <td>def transform(self, trans):\\n        if isinst...</td>\n",
       "      <td>Compute a transformation in place using a 4x4 ...</td>\n",
       "    </tr>\n",
       "    <tr>\n",
       "      <th>1</th>\n",
       "      <td>def perform_word_selection(self, event=None):\\...</td>\n",
       "      <td>Performs word selection\\n        :param event:...</td>\n",
       "    </tr>\n",
       "    <tr>\n",
       "      <th>2</th>\n",
       "      <td>def create(self, stream, start, parameters, so...</td>\n",
       "      <td>Create a hitorics preview job.\\n\\n            ...</td>\n",
       "    </tr>\n",
       "    <tr>\n",
       "      <th>3</th>\n",
       "      <td>def reset_object(self, driver_wrapper=None):\\n...</td>\n",
       "      <td>Reset each page element object\\n\\n        :par...</td>\n",
       "    </tr>\n",
       "    <tr>\n",
       "      <th>4</th>\n",
       "      <td>def _mom(self, k, dist, length, cache):\\n     ...</td>\n",
       "      <td>Moment generating function.\\n\\n        Example...</td>\n",
       "    </tr>\n",
       "  </tbody>\n",
       "</table>\n",
       "</div>"
      ],
      "text/plain": [
       "                                                code  \\\n",
       "0  def transform(self, trans):\\n        if isinst...   \n",
       "1  def perform_word_selection(self, event=None):\\...   \n",
       "2  def create(self, stream, start, parameters, so...   \n",
       "3  def reset_object(self, driver_wrapper=None):\\n...   \n",
       "4  def _mom(self, k, dist, length, cache):\\n     ...   \n",
       "\n",
       "                                           docstring  \n",
       "0  Compute a transformation in place using a 4x4 ...  \n",
       "1  Performs word selection\\n        :param event:...  \n",
       "2  Create a hitorics preview job.\\n\\n            ...  \n",
       "3  Reset each page element object\\n\\n        :par...  \n",
       "4  Moment generating function.\\n\\n        Example...  "
      ]
     },
     "execution_count": 18,
     "metadata": {},
     "output_type": "execute_result"
    }
   ],
   "source": [
    "df_trn.head(5)"
   ]
  },
  {
   "cell_type": "code",
   "execution_count": 19,
   "metadata": {
    "colab": {
     "base_uri": "https://localhost:8080/"
    },
    "id": "zy5VOj14jZCw",
    "outputId": "5349b6df-df0b-4273-a5e8-695081f2ebb1"
   },
   "outputs": [
    {
     "data": {
      "text/plain": [
       "1"
      ]
     },
     "execution_count": 19,
     "metadata": {},
     "output_type": "execute_result"
    }
   ],
   "source": [
    "shared_spm.pad_id()"
   ]
  },
  {
   "cell_type": "code",
   "execution_count": 20,
   "metadata": {
    "id": "JPABab5_jZCw"
   },
   "outputs": [],
   "source": [
    "class CodeToDocstringDataset(Dataset):\n",
    "    def __init__(self, method_spm, comment_spm,\n",
    "                 codes, docstrings,\n",
    "                 max_code_len=340, max_docstring_len=340\n",
    "                ):\n",
    "        self.method_spm = method_spm\n",
    "        self.comment_spm = comment_spm\n",
    "        self.codes = [method_spm.tokenize(c, int) for c in tqdm(codes)]\n",
    "        self.docstrings = [comment_spm.tokenize(d, int,\n",
    "                                                add_bos=True, add_eos=True) for d in tqdm(docstrings)]\n",
    "        self.max_code_len = max_code_len\n",
    "        self.max_docstring_len = max_docstring_len\n",
    "        \n",
    "    def __getitem__(self, idx):\n",
    "        return (self.codes[idx], self.docstrings[idx])\n",
    "    \n",
    "    def __len__(self):\n",
    "        return len(self.codes)\n",
    "\n",
    "    def collate(self, rows):\n",
    "        codes = [torch.tensor(row[0][:self.max_code_len], \n",
    "                              dtype=torch.long) for row in rows]\n",
    "        \n",
    "        comments = [torch.tensor(row[1][:self.max_docstring_len],\n",
    "                                 dtype=torch.long) for row in rows]\n",
    "        \n",
    "        code_tensor = pad_sequence(codes,batch_first=True,padding_value=self.method_spm.pad_id())\n",
    "        doc_tensor = pad_sequence(comments,batch_first=True,padding_value=self.comment_spm.pad_id())\n",
    "        \n",
    "        return code_tensor, doc_tensor\n",
    "        "
   ]
  },
  {
   "cell_type": "code",
   "execution_count": 21,
   "metadata": {
    "colab": {
     "base_uri": "https://localhost:8080/",
     "height": 114,
     "referenced_widgets": [
      "bbce2ecea1d8484b97377ebc9aab5a55",
      "34cd929da6c244b4a4d5cb7dbb1a2e0a",
      "d958317e72594ba8990df000f53ffa3b",
      "18459f31bb9543aa8ad3c2420e134ab2",
      "6e82cf5b42184e078e10c342adbf0fca",
      "1ce0ebb938304d5cafa1b5f23f8ecf69",
      "7a6074e43d65464f8ca5a088ba075ce5",
      "56b0c2d6c01a40eaaec787f2427c9ea4",
      "87676b91d4834f93adb91622e59c63fd",
      "67bbfa6548a34d828cab44ecdb09acba",
      "8a18144909074193bb17ea5c43c7ae11",
      "fcf0e7e96aec45c8b5433524e769c957",
      "d83f2d363c544aadb23733b705a508e3",
      "e8d7607d2b8e40f88e2b433e3d649e21",
      "e4dcef5e456c4b3588f3c23289243291",
      "8449169063654aca906068acff76652d"
     ]
    },
    "id": "ehTu8KswjZCw",
    "outputId": "32f31a0e-821e-46ee-a81d-3c178d6ec995"
   },
   "outputs": [
    {
     "data": {
      "application/vnd.jupyter.widget-view+json": {
       "model_id": "52ca77ea83884d118d7dc9878005b3aa",
       "version_major": 2,
       "version_minor": 0
      },
      "text/plain": [
       "  0%|          | 0/157263 [00:00<?, ?it/s]"
      ]
     },
     "metadata": {},
     "output_type": "display_data"
    },
    {
     "data": {
      "application/vnd.jupyter.widget-view+json": {
       "model_id": "45a3329d461d4af39897e4c6c043808b",
       "version_major": 2,
       "version_minor": 0
      },
      "text/plain": [
       "  0%|          | 0/157263 [00:00<?, ?it/s]"
      ]
     },
     "metadata": {},
     "output_type": "display_data"
    }
   ],
   "source": [
    "train_dataset = CodeToDocstringDataset(shared_spm, shared_spm, \n",
    "                                       df_trn['code'], df_trn['docstring'])"
   ]
  },
  {
   "cell_type": "code",
   "execution_count": 22,
   "metadata": {
    "colab": {
     "base_uri": "https://localhost:8080/",
     "height": 114,
     "referenced_widgets": [
      "6f6a6fd0019b4e64aae6e8bbf8ce144d",
      "ad564ace58bc43738801d278055cf70b",
      "5b3278fc935e4d07b65aa735590758f9",
      "f6d62ccd9c624855bb953f060020a79b",
      "27e4dd787061427591847cb34c3b03ae",
      "1c5c8da1be4f40d5b2a9e9ac46c643f6",
      "0170fe02467340fb8bfcf58f0f59813d",
      "4cac3adb7ea2492882f11a42f8558189",
      "677a45bd99784f26a4941aabb8784a04",
      "93474465b1d0414ab292bd92aa4e39f4",
      "08310e3e94964cdda729f31fcf46e9fd",
      "6c42ce2210784ffca06210211751bf60",
      "49afa35c19414cff826aac49f948ad4f",
      "26a9432d39384357ae6895db77cd306e",
      "b05d914f44bb4a269383636295f0ddfe",
      "032c5e2018084305857f9ad4c7a09ec3"
     ]
    },
    "id": "58yTbjvVjZCx",
    "outputId": "0e4754eb-2da2-4468-d9ac-4af82462872c"
   },
   "outputs": [
    {
     "data": {
      "application/vnd.jupyter.widget-view+json": {
       "model_id": "4d2b1db29f4c4eef98cb6247b948ec7e",
       "version_major": 2,
       "version_minor": 0
      },
      "text/plain": [
       "  0%|          | 0/8854 [00:00<?, ?it/s]"
      ]
     },
     "metadata": {},
     "output_type": "display_data"
    },
    {
     "data": {
      "application/vnd.jupyter.widget-view+json": {
       "model_id": "50ab4a4474204692900b64bf5f1e6606",
       "version_major": 2,
       "version_minor": 0
      },
      "text/plain": [
       "  0%|          | 0/8854 [00:00<?, ?it/s]"
      ]
     },
     "metadata": {},
     "output_type": "display_data"
    }
   ],
   "source": [
    "validation_dataset = CodeToDocstringDataset(shared_spm, shared_spm, \n",
    "                                       df_val['code'], df_val['docstring'])"
   ]
  },
  {
   "cell_type": "code",
   "execution_count": 23,
   "metadata": {
    "colab": {
     "base_uri": "https://localhost:8080/"
    },
    "id": "mpo0zQDIjZCx",
    "outputId": "057f3cc5-cc07-4c7b-bbae-24bdbb74eece"
   },
   "outputs": [
    {
     "data": {
      "text/plain": [
       "24000"
      ]
     },
     "execution_count": 23,
     "metadata": {},
     "output_type": "execute_result"
    }
   ],
   "source": [
    "shared_spm.vocab_size()"
   ]
  },
  {
   "cell_type": "code",
   "execution_count": 24,
   "metadata": {
    "id": "26h35lGTjZCy"
   },
   "outputs": [],
   "source": [
    "model_config = BartConfig(\n",
    "    vocab_size=shared_spm.vocab_size(),\n",
    "    d_model=D_MODEL,\n",
    "    num_layers=NUM_LAYERS,\n",
    "    num_decoder_layers=NUM_DECODER_LAYERS,\n",
    "    d_ff=D_FF,\n",
    "    num_heads=NUM_HEADS, \n",
    "    dropout_rate=DROPOUT_RATE,\n",
    "    decoder_start_token_id=shared_spm.bos_id(),\n",
    "    tie_word_embeddings = False\n",
    ")"
   ]
  },
  {
   "cell_type": "code",
   "execution_count": 25,
   "metadata": {
    "id": "QqnUHyYbA7Gy"
   },
   "outputs": [],
   "source": [
    "class BestModel:\n",
    "    def __init__(self, path, initial_criterion):\n",
    "        self.path = path\n",
    "        self.criterion = initial_criterion\n",
    "        \n",
    "    def update(self, model, criterion):\n",
    "        self.criterion = criterion\n",
    "        torch.save({'model_state': model.state_dict(), 'criterion': criterion}, self.path)\n",
    "        \n",
    "    def load_model_data(self):\n",
    "        return torch.load(self.path)\n",
    "    \n",
    "    def restore(self, model):\n",
    "        model_data = self.load_model_data()\n",
    "        model.load_state_dict(model_data['model_state'])"
   ]
  },
  {
   "cell_type": "code",
   "execution_count": 26,
   "metadata": {
    "id": "mnpG9J-pjZCz"
   },
   "outputs": [],
   "source": [
    "import torch.nn.functional as F\n",
    "\n",
    "def masked_crossentropy(logits, targets, padding_idx):\n",
    "    return F.cross_entropy(logits.view(-1, logits.size(-1)),\n",
    "                           targets.view(-1), ignore_index=padding_idx)"
   ]
  },
  {
   "cell_type": "code",
   "execution_count": 27,
   "metadata": {
    "id": "r-56va4mjZCz"
   },
   "outputs": [],
   "source": [
    "model = BartForConditionalGeneration(model_config)"
   ]
  },
  {
   "cell_type": "code",
   "execution_count": 28,
   "metadata": {
    "id": "32ICz4cgjZC0"
   },
   "outputs": [],
   "source": [
    "optim = torch.optim.Adam(lr=LEARNING_RATE,params=model.parameters())"
   ]
  },
  {
   "cell_type": "code",
   "execution_count": 29,
   "metadata": {
    "id": "uEF87f4vjZC0"
   },
   "outputs": [],
   "source": [
    "scheduler = get_constant_schedule_with_warmup(optim, num_warmup_steps=NUM_WARMUP_STEPS)"
   ]
  },
  {
   "cell_type": "code",
   "execution_count": 30,
   "metadata": {
    "colab": {
     "base_uri": "https://localhost:8080/"
    },
    "id": "e50U5nHnjZC0",
    "outputId": "424b6279-96ea-4e05-a8fb-fd1f7f63d342"
   },
   "outputs": [
    {
     "data": {
      "text/plain": [
       "0.0"
      ]
     },
     "execution_count": 30,
     "metadata": {},
     "output_type": "execute_result"
    }
   ],
   "source": [
    "next(iter(optim.param_groups))['lr']"
   ]
  },
  {
   "cell_type": "code",
   "execution_count": 31,
   "metadata": {},
   "outputs": [],
   "source": [
    "def test_model(df, sample_size = 10):\n",
    "    print(\"[Test model results]\")\n",
    "    \n",
    "    sample = df.sample(sample_size)\n",
    "    \n",
    "    with torch.no_grad():\n",
    "        for idx, row in sample.iterrows():\n",
    "            code = row.code\n",
    "            inp = shared_spm.tokenize(code)\n",
    "            inp = torch.tensor(inp).view(1,-1)\n",
    "            generated = model.generate(input_ids=inp.to(model.device), \n",
    "                                       decoder_start_token_id=shared_spm.bos_id(), \n",
    "                                       num_beams=10,\n",
    "                                       max_length=25, no_repeat_ngram_size=4)\n",
    "            generated = generated[0].cpu().tolist()\n",
    "            print(\"---------------------------\")\n",
    "            print(f\"Code: {code}\")\n",
    "            print(f\"Target: {row.docstring}\")\n",
    "            print(f\"Generated :{shared_spm.decode(generated)}\")\n",
    "            \n",
    "    print(\"---------------------------\")"
   ]
  },
  {
   "cell_type": "code",
   "execution_count": 32,
   "metadata": {
    "id": "6aJL-XG-jZC1"
   },
   "outputs": [],
   "source": [
    "def compute_loss(model, encoder_inputs, decoder_inputs, decoder_labels, padding_idx):\n",
    "    attention_mask = (encoder_inputs != padding_idx).type(torch.long)\n",
    "    decoder_attention_mask = (decoder_inputs != padding_idx).type(torch.long)\n",
    "            \n",
    "    pass_result = model.forward(encoder_inputs, attention_mask, \n",
    "                          decoder_input_ids=decoder_inputs, \n",
    "                          decoder_attention_mask=decoder_attention_mask, return_dict=True)\n",
    "    logits = pass_result['logits']\n",
    "            \n",
    "    loss = masked_crossentropy(logits, decoder_labels, padding_idx)\n",
    "    \n",
    "    return loss\n",
    "\n",
    "def train_model(model, optimizer, lr_scheduler, scheduler_step_frequency,\n",
    "                loaders, max_epochs, device, \n",
    "                best_model: BestModel, patience, padding_idx):\n",
    "    allowed_epochs_without_improvement = patience\n",
    "    \n",
    "    for epoch in tqdm(range(max_epochs)):\n",
    "        model.train()\n",
    "        train_iter = tqdm(loaders['train'])\n",
    "        running_sum_loss = 0.0\n",
    "        running_total_batches = 0\n",
    "        for (xx, yy) in train_iter:\n",
    "            optimizer.zero_grad()\n",
    "            encoder_inputs = xx.to(device)\n",
    "            decoder_inputs = yy[:,:-1].clone().to(device)\n",
    "            decoder_labels = yy[:,1:].clone().to(device)\n",
    "\n",
    "            loss = compute_loss(model, encoder_inputs, decoder_inputs, decoder_labels, padding_idx)\n",
    "            \n",
    "            loss.backward()\n",
    "            optimizer.step()\n",
    "            if lr_scheduler is not None and scheduler_step_frequency == 'step':\n",
    "                lr_scheduler.step()\n",
    "            \n",
    "            running_sum_loss += loss.item()\n",
    "            running_total_batches += 1\n",
    "            \n",
    "            train_iter.set_postfix({\n",
    "                \"avg_train_loss\": np.round(running_sum_loss / running_total_batches, 4),\n",
    "                \"train_step_loss\": np.round(loss.item(), 4)\n",
    "            })\n",
    "\n",
    "        if lr_scheduler is not None and scheduler_step_frequency == 'epoch':\n",
    "            lr_scheduler.step()\n",
    "            \n",
    "        with torch.no_grad():\n",
    "            model.eval()\n",
    "            \n",
    "            val_iter = tqdm(loaders['validation'])\n",
    "            \n",
    "            running_sum_loss = 0.0\n",
    "            running_total_batches = 0\n",
    "            \n",
    "            for (xx, yy) in val_iter:\n",
    "                encoder_inputs = xx.to(device)\n",
    "                decoder_inputs = yy[:,:-1].clone().to(device)\n",
    "                decoder_labels = yy[:,1:].clone().to(device)\n",
    "                \n",
    "                loss = compute_loss(model, encoder_inputs, decoder_inputs, decoder_labels, padding_idx)\n",
    "                \n",
    "                running_sum_loss += loss.item()\n",
    "                running_total_batches += 1\n",
    "                \n",
    "                val_iter.set_postfix({\n",
    "                    \"avg_val_loss\": np.round(running_sum_loss / running_total_batches, 4),\n",
    "                    \"val_step_loss\": np.round(loss.item(), 4)\n",
    "                })\n",
    "                \n",
    "            final_val_loss = running_sum_loss / running_total_batches\n",
    "            prev_loss = best_model.criterion\n",
    "            if final_val_loss < prev_loss:\n",
    "                best_model.update(model, final_val_loss)\n",
    "                print(f\"Model saved due to improvement in 'val_loss'\"\\\n",
    "                      f\" from {prev_loss} to {final_val_loss}\")\n",
    "                allowed_epochs_without_improvement = patience\n",
    "            else:\n",
    "                if allowed_epochs_without_improvement <= 0:\n",
    "                    print(f\"Training stopped due to no improvement in {patience} epochs\")\n",
    "                    return\n",
    "                allowed_epochs_without_improvement -= 1\n",
    "           \n",
    "        test_model(df_tst, 5)\n",
    "        "
   ]
  },
  {
   "cell_type": "code",
   "execution_count": 33,
   "metadata": {
    "id": "-XzxgiWdjZC1"
   },
   "outputs": [],
   "source": [
    "dataloaders = {}\n",
    "dataloaders['train'] = DataLoader(train_dataset, TRAIN_BATCH_SIZE, shuffle=True, collate_fn=train_dataset.collate)\n",
    "dataloaders['validation'] = DataLoader(validation_dataset,\n",
    "                                       VAL_BATCH_SIZE, collate_fn=validation_dataset.collate)"
   ]
  },
  {
   "cell_type": "code",
   "execution_count": 34,
   "metadata": {
    "id": "4EzP3FYAjZC2"
   },
   "outputs": [],
   "source": [
    "best_model = BestModel(f\"model_{MODEL_VERSION}\", initial_criterion=10000)"
   ]
  },
  {
   "cell_type": "code",
   "execution_count": 35,
   "metadata": {
    "id": "0QAh7JmdjZC2"
   },
   "outputs": [],
   "source": [
    "device = 'cuda'"
   ]
  },
  {
   "cell_type": "code",
   "execution_count": 36,
   "metadata": {
    "id": "BeQE0ODBjZC2"
   },
   "outputs": [],
   "source": [
    "model = model.to(device)"
   ]
  },
  {
   "cell_type": "code",
   "execution_count": null,
   "metadata": {
    "colab": {
     "base_uri": "https://localhost:8080/",
     "height": 195,
     "referenced_widgets": [
      "923942a6c1ba4257bdddc929c4ee6892",
      "75cbbe18416b404d9c8b9d88415b05c5",
      "04d20bb756174e6eae44bf594c67bf10",
      "7476d0bd592843f1a06fbd3ce50b15cc",
      "bd97154633b2421bb3f478889c5c58f7",
      "b3974ec9f1be45fcae9f3ac5dd43af5e",
      "cce045e884bd4aac874bc110c14e33b0",
      "4f31cb2b4adf4756ab2d5e08fd980436",
      "27d1422d4bd042938661ac7bab629c0e",
      "4505a00686194672ae8925431e44d346",
      "963f53c3cf404e7595dc554fc63d4df4",
      "74203a2bcb2a4e3e9fb71ca475f9c259",
      "6d40bb935de74b1499d2b33c8b7eca95",
      "3aed8bcf8b564a48a638cadc0b0151e3",
      "ec01cb9d81b947d395a473dba7a0be06",
      "c11e5211a0854a82978fef8e72d2b3ee",
      "88991afeec49461e9aaff7a0d1da365b",
      "0170af284d8f461185a74a9e846ad69e",
      "de2624bf5c7e4e1aaccdf867efced9f9",
      "98f0e71a7a914a7ba68a24b8f79d72fe",
      "c577f0e201ca40b9b6cfedd733b4ef20",
      "8f0d023d16b840379f397ac8e7c3493c",
      "73cf070109c046a6ba833c860918b3df",
      "224af8630019457ba874067c146f1bba",
      "0ff4d3c660114a90a9ecbcc8b74b03fc",
      "dbfe2779d8be4d1882e2e8567b96d1b1",
      "4c951b96425242a9969c08101c187198",
      "a23d31de48ee4de99a6bfbe75d9d5382",
      "c211b46cfe6f4f90b762aad20f7ee2b9",
      "368178aefa7e465aa82222bef29cbed5",
      "8cca36eca10f45a9bd48aa9360c49253",
      "5b510735452c441f9a855ea43b2b3b6d"
     ]
    },
    "id": "8DlSMVZHVqvn",
    "outputId": "e63658ba-55cd-4e1f-b8ef-a2a60af89bce"
   },
   "outputs": [
    {
     "data": {
      "application/vnd.jupyter.widget-view+json": {
       "model_id": "2aff51cf1f714fee9ee5d271de33a379",
       "version_major": 2,
       "version_minor": 0
      },
      "text/plain": [
       "  0%|          | 0/8 [00:00<?, ?it/s]"
      ]
     },
     "metadata": {},
     "output_type": "display_data"
    },
    {
     "data": {
      "application/vnd.jupyter.widget-view+json": {
       "model_id": "18e4b45a6c5f41feab8b01e74b3e1601",
       "version_major": 2,
       "version_minor": 0
      },
      "text/plain": [
       "  0%|          | 0/19658 [00:00<?, ?it/s]"
      ]
     },
     "metadata": {},
     "output_type": "display_data"
    },
    {
     "data": {
      "application/vnd.jupyter.widget-view+json": {
       "model_id": "8f3c6f1e8e164f56bbc1c4b75644c43f",
       "version_major": 2,
       "version_minor": 0
      },
      "text/plain": [
       "  0%|          | 0/1107 [00:00<?, ?it/s]"
      ]
     },
     "metadata": {},
     "output_type": "display_data"
    },
    {
     "name": "stdout",
     "output_type": "stream",
     "text": [
      "Model saved due to improvement in 'val_loss' from 10000 to 4.6164942726748635\n",
      "[Test model results]\n"
     ]
    },
    {
     "name": "stderr",
     "output_type": "stream",
     "text": [
      "/home/egor/ml_env/lib/python3.9/site-packages/torch/_tensor.py:575: UserWarning: floor_divide is deprecated, and will be removed in a future version of pytorch. It currently rounds toward 0 (like the 'trunc' function NOT 'floor'). This results in incorrect rounding for negative values.\n",
      "To keep the current behavior, use torch.div(a, b, rounding_mode='trunc'), or for actual floor division, use torch.div(a, b, rounding_mode='floor'). (Triggered internally at  /pytorch/aten/src/ATen/native/BinaryOps.cpp:467.)\n",
      "  return torch.floor_divide(self, other)\n"
     ]
    },
    {
     "name": "stdout",
     "output_type": "stream",
     "text": [
      "---------------------------\n",
      "Code: def from_ascii(path, seperator=None, names=True, skip_lines=0, skip_after=0, **kwargs):\n",
      "    import vaex.ext.readcol as rc\n",
      "    ds = vaex.dataframe.DataFrameArrays(path)\n",
      "    if names not in [True, False]:\n",
      "        namelist = names\n",
      "        names = False\n",
      "    else:\n",
      "        namelist = None\n",
      "    data = rc.readcol(path, fsep=seperator, asdict=namelist is None, names=names, skipline=skip_lines, skipafter=skip_after, **kwargs)\n",
      "    if namelist:\n",
      "        for name, array in zip(namelist, data.T):\n",
      "            ds.add_column(name, array)\n",
      "    else:\n",
      "        for name, array in data.items():\n",
      "            ds.add_column(name, array)\n",
      "    return ds\n",
      "Target: Create an in memory DataFrame from an ascii file (whitespace seperated by default).\n",
      "\n",
      "    >>> ds = vx.from_ascii(\"table.asc\")\n",
      "    >>> ds = vx.from_ascii(\"table.csv\", seperator=\",\", names=[\"x\", \"y\", \"z\"])\n",
      "\n",
      "    :param path: file path\n",
      "    :param seperator: value seperator, by default whitespace, use \",\" for comma seperated values.\n",
      "    :param names: If True, the first line is used for the column names, otherwise provide a list of strings with names\n",
      "    :param skip_lines: skip lines at the start of the file\n",
      "    :param skip_after: skip lines at the end of the file\n",
      "    :param kwargs:\n",
      "    :rtype: DataFrame\n",
      "Generated :Parses a file-like object. Args: path (str): Path to the file. Returns: str:\n",
      "---------------------------\n",
      "Code: def _match_long_opt(self, opt):\n",
      "        if opt not in self._long_opt:\n",
      "            raise optparse.BadOptionError(opt)\n",
      "        return opt\n",
      "Target: Disable abbreviations.\n",
      "Generated :Converts a string to a string. Args: string (str): The string to parse. Returns: str:\n",
      "---------------------------\n",
      "Code: def variant_acmg_post(store, institute_id, case_name, variant_id, user_email, criteria):\n",
      "    institute_obj, case_obj = institute_and_case(store, institute_id, case_name)\n",
      "    variant_obj = store.variant(variant_id)\n",
      "    user_obj = store.user(user_email)\n",
      "    variant_link = url_for('variants.variant', institute_id=institute_id,\n",
      "                           case_name=case_name, variant_id=variant_id)\n",
      "    classification = store.submit_evaluation(\n",
      "        institute_obj=institute_obj,\n",
      "        case_obj=case_obj,\n",
      "        variant_obj=variant_obj,\n",
      "        user_obj=user_obj,\n",
      "        link=variant_link,\n",
      "        criteria=criteria,\n",
      "    )\n",
      "    return classification\n",
      "Target: Calculate an ACMG classification based on a list of criteria.\n",
      "Generated :Create a new model. :param name: The name of the model. :type name: str :param name\n",
      "---------------------------\n",
      "Code: def t_NAMESPACE(self, t):\n",
      "        t.endlexpos = t.lexpos + len(t.value)\n",
      "        return t\n",
      "Target: r\"([0-9a-zA-Z_])+(?=::)\n",
      "Generated :Return a list of items in the list. :return: A list of strings. :rtype: list\n",
      "---------------------------\n",
      "Code: def has_source_code_tree_changed(self):\n",
      "        global CURRENT_HASH\n",
      "        directory = self.where\n",
      "        CURRENT_HASH = dirhash(directory, 'md5', ignore_hidden=True,\n",
      "                               excluded_files=[\".coverage\", \"lint.txt\"],\n",
      "                               excluded_extensions=[\".pyc\"]\n",
      "                               )\n",
      "        print(\"Searching \" + self.state_file_name)\n",
      "        if os.path.isfile(self.state_file_name):\n",
      "            with open(self.state_file_name, \"r+\") as file:\n",
      "                last_hash = file.read()\n",
      "                if last_hash != CURRENT_HASH:\n",
      "                    file.seek(0)\n",
      "                    file.write(CURRENT_HASH)\n",
      "                    file.truncate()\n",
      "                    return True\n",
      "                else:\n",
      "                    return False\n",
      "        with open(self.state_file_name, \"w\") as file:\n",
      "            file.write(CURRENT_HASH)\n",
      "            return True\n",
      "Target: If a task succeeds & is re-run and didn't change, we might not\n",
      "        want to re-run it if it depends *only* on source code\n",
      "        :return:\n",
      "Generated :Writes a file to a file. :param filename: Path to the file. :type filename: str :\n",
      "---------------------------\n"
     ]
    },
    {
     "data": {
      "application/vnd.jupyter.widget-view+json": {
       "model_id": "78f0f25289f044059e7482bf800bed3a",
       "version_major": 2,
       "version_minor": 0
      },
      "text/plain": [
       "  0%|          | 0/19658 [00:00<?, ?it/s]"
      ]
     },
     "metadata": {},
     "output_type": "display_data"
    },
    {
     "data": {
      "application/vnd.jupyter.widget-view+json": {
       "model_id": "cf6e17da485e41c4bb6719031682ac34",
       "version_major": 2,
       "version_minor": 0
      },
      "text/plain": [
       "  0%|          | 0/1107 [00:00<?, ?it/s]"
      ]
     },
     "metadata": {},
     "output_type": "display_data"
    },
    {
     "name": "stdout",
     "output_type": "stream",
     "text": [
      "Model saved due to improvement in 'val_loss' from 4.6164942726748635 to 4.315538340467747\n",
      "[Test model results]\n",
      "---------------------------\n",
      "Code: def diode_spec(calON_obs,calOFF_obs,calflux,calfreq,spec_in,average=True,oneflux=False,**kwargs):\n",
      "    obs = Waterfall(calON_obs,max_load=150)\n",
      "    freqs = obs.populate_freqs()\n",
      "    ncoarse = obs.calc_n_coarse_chan()\n",
      "    nchans = obs.header['nchans']\n",
      "    chan_per_coarse = nchans/ncoarse\n",
      "    f_ON, f_OFF = f_ratios(calON_obs,calOFF_obs,chan_per_coarse,**kwargs)\n",
      "    centerfreqs = get_centerfreqs(freqs,chan_per_coarse)\n",
      "    calfluxes = get_calfluxes(calflux,calfreq,spec_in,centerfreqs,oneflux)\n",
      "    C_o = calfluxes/(1/f_ON-1/f_OFF)\n",
      "    Tsys = C_o/f_OFF\n",
      "    if average==True:\n",
      "        return np.mean(C_o),np.mean(Tsys)\n",
      "    else:\n",
      "        return C_o,Tsys\n",
      "Target: Calculate the coarse channel spectrum and system temperature of the noise diode in Jy given two noise diode\n",
      "    measurements ON and OFF the calibrator source with the same frequency and time resolution\n",
      "\n",
      "    Parameters\n",
      "    ----------\n",
      "    calON_obs : str\n",
      "        (see f_ratios() above)\n",
      "    calOFF_obs : str\n",
      "        (see f_ratios() above)\n",
      "    calflux : float\n",
      "        Known flux of calibrator source at a particular frequency\n",
      "    calfreq : float\n",
      "        Frequency where calibrator source has flux calflux (see above)\n",
      "    spec_in : float\n",
      "        Known power-law spectral index of calibrator source. Use convention flux(frequency) = constant * frequency^(spec_in)\n",
      "    average : boolean\n",
      "        Use average=True to return noise diode and Tsys spectra averaged over frequencies\n",
      "Generated :Gets the ``OsidSession`` associated with the objective bank. arg: bank_id (osid.id.Id\n",
      "---------------------------\n",
      "Code: def generate_address_2(from_: Union[str, bytes], salt: Union[str, bytes], init_code: [str, bytes]) -> str:\n",
      "    from_ = HexBytes(from_)\n",
      "    salt = HexBytes(salt)\n",
      "    init_code = HexBytes(init_code)\n",
      "    assert len(from_) == 20, \"Address %s is not valid. Must be 20 bytes\" % from_\n",
      "    assert len(salt) == 32, \"Salt %s is not valid. Must be 32 bytes\" % salt\n",
      "    assert len(init_code) > 0, \"Init code %s is not valid\" % init_code\n",
      "    init_code_hash = Web3.sha3(init_code)\n",
      "    contract_address = Web3.sha3(HexBytes('ff') + from_ + salt + init_code_hash)\n",
      "    return Web3.toChecksumAddress(contract_address[12:])\n",
      "Target: Generates an address for a contract created using CREATE2.\n",
      "    :param from_: The address which is creating this new address (need to be 20 bytes)\n",
      "    :param salt: A salt (32 bytes)\n",
      "    :param init_code: A init code of the contract being created\n",
      "    :return: Address of the new contract\n",
      "Generated :Gets the ``OsidSession`` associated with the objective bank. arg: bank_id (osid.id.Id\n",
      "---------------------------\n",
      "Code: def view(self, state):\n",
      "        if not self._is_kind(Fold):\n",
      "            raise TypeError('Must be an instance of Fold to .view()')\n",
      "        guard = object()\n",
      "        result = self.preview(state).maybe(guard)\n",
      "        if result is guard:\n",
      "            raise ValueError('No focus to view')\n",
      "        return cast(B, result)\n",
      "Target: Returns the focus within `state`. If multiple items are\n",
      "        focused then it will attempt to join them together as a monoid.\n",
      "        See `lenses.typeclass.mappend`.\n",
      "\n",
      "        Requires kind Fold. This method will raise TypeError if the\n",
      "        optic has no way to get any foci.\n",
      "\n",
      "        For technical reasons, this method requires there to be at least\n",
      "        one foci at the end of the view. It will raise ValueError when\n",
      "        there is none.\n",
      "Generated :Gets the ``OsidSession`` associated with the objective bank. arg: bank_id (osid.id.Id\n",
      "---------------------------\n",
      "Code: def add_options(self, parser, env=None):\n",
      "        if env is None:\n",
      "            env = os.environ\n",
      "        try:\n",
      "            self.options(parser, env)\n",
      "            self.can_configure = True\n",
      "        except OptionConflictError, e:\n",
      "            warn(\"Plugin %s has conflicting option string: %s and will \"\n",
      "                 \"be disabled\" % (self, e), RuntimeWarning)\n",
      "            self.enabled = False\n",
      "            self.can_configure = False\n",
      "Target: Non-camel-case version of func name for backwards compatibility.\n",
      "\n",
      "        .. warning ::\n",
      "\n",
      "           DEPRECATED: Do not use this method,\n",
      "           use :meth:`options <nose.plugins.base.IPluginInterface.options>`\n",
      "           instead.\n",
      "Generated :Writes a file descriptor to a file-like object. Args: file_mediator (ParserMediator): mediates\n",
      "---------------------------\n",
      "Code: def register_error_handle(app):\n",
      "    @app.errorhandler(403)\n",
      "    def page_403(error):\n",
      "        return render_template('site/403/403.html'), 403\n",
      "    @app.errorhandler(404)\n",
      "    def page_404(error):\n",
      "        return render_template('site/404/404.html'), 404\n",
      "    @app.errorhandler(500)\n",
      "    def page_500(error):\n",
      "        return render_template('site/500/500.html'), 500\n",
      "Target: Register HTTP error pages.\n",
      "Generated :Gets the ``OsidSession`` associated with the objective bank. arg: bank_id (osid.id.Id\n",
      "---------------------------\n"
     ]
    },
    {
     "data": {
      "application/vnd.jupyter.widget-view+json": {
       "model_id": "76d33ab754c74d258547fb76cbe36849",
       "version_major": 2,
       "version_minor": 0
      },
      "text/plain": [
       "  0%|          | 0/19658 [00:00<?, ?it/s]"
      ]
     },
     "metadata": {},
     "output_type": "display_data"
    },
    {
     "data": {
      "application/vnd.jupyter.widget-view+json": {
       "model_id": "cf58af7b40f545e1b7baf15076ce5d7b",
       "version_major": 2,
       "version_minor": 0
      },
      "text/plain": [
       "  0%|          | 0/1107 [00:00<?, ?it/s]"
      ]
     },
     "metadata": {},
     "output_type": "display_data"
    },
    {
     "name": "stdout",
     "output_type": "stream",
     "text": [
      "Model saved due to improvement in 'val_loss' from 4.315538340467747 to 4.108572504815478\n",
      "[Test model results]\n",
      "---------------------------\n",
      "Code: async def close(self):\n",
      "        if self._is_closed:\n",
      "            return\n",
      "        else:\n",
      "            await self.http.close()\n",
      "            self._is_closed = True\n",
      "Target: This function is a coroutine.\n",
      "\n",
      "        Closes all connections.\n",
      "Generated :Gets the ``OsidSession`` associated with the objective bank. arg: proxy (osid.proxy.Proxy): a\n",
      "---------------------------\n",
      "Code: def start(host, port, profiler_stats, dont_start_browser, debug_mode):\n",
      "    stats_handler = functools.partial(StatsHandler, profiler_stats)\n",
      "    if not debug_mode:\n",
      "        sys.stderr = open(os.devnull, 'w')\n",
      "    print('Starting HTTP server...')\n",
      "    if not dont_start_browser:\n",
      "        webbrowser.open('http://{}:{}/'.format(host, port))\n",
      "    try:\n",
      "        StatsServer((host, port), stats_handler).serve_forever()\n",
      "    except KeyboardInterrupt:\n",
      "        print('Stopping...')\n",
      "        sys.exit(0)\n",
      "Target: Starts HTTP server with specified parameters.\n",
      "\n",
      "    Args:\n",
      "        host: Server host name.\n",
      "        port: Server port.\n",
      "        profiler_stats: A dict with collected program stats.\n",
      "        dont_start_browser: Whether to open browser after profiling.\n",
      "        debug_mode: Whether to redirect stderr to /dev/null.\n",
      "Generated :Gets the ``OsidSession`` associated with the objective bank. arg: proxy (osid.proxy.Proxy): a\n",
      "---------------------------\n",
      "Code: def _all_cut_string(string, max_length, logger):\n",
      "        if len(string) > max_length:\n",
      "            logger.debug('The string `%s` was too long I truncated it to'\n",
      "                         ' %d characters' %\n",
      "                         (string, max_length))\n",
      "            string = string[0:max_length - 3] + '...'.encode('utf-8')\n",
      "        return string\n",
      "Target: Cuts string data to the maximum length allowed in a pytables column\n",
      "        if string is too long.\n",
      "\n",
      "        :param string: String to be cut\n",
      "        :param max_length: Maximum allowed string length\n",
      "        :param logger: Logger where messages about truncating should be written\n",
      "\n",
      "        :return: String, cut if too long\n",
      "Generated :Gets the ``OsidSession`` associated with the objective bank. arg: proxy (osid.proxy.Proxy): a\n",
      "---------------------------\n",
      "Code: def _put_catalog(self):\n",
      "        self.session._add_object()\n",
      "        self.session._out('<<')\n",
      "        self.session._out('/Type /Catalog')\n",
      "        self.session._out('/Pages 1 0 R')\n",
      "        if self.zoom_mode == 'fullpage':\n",
      "            self.session._out('/OpenAction [3 0 R /Fit]')\n",
      "        elif self.zoom_mode == 'fullwidth':\n",
      "            self.session._out('/OpenAction [3 0 R /FitH null]')\n",
      "        elif self.zoom_mode == 'real':\n",
      "            self.session._out('/OpenAction [3 0 R /XYZ null null 1]')\n",
      "        elif not isinstance(self.zoom_mode, basestring):\n",
      "            self.session._out(\n",
      "                '/OpenAction [3 0 R /XYZ null null ' +\n",
      "                (self.zoom_mode / 100) + ']')\n",
      "        if self.layout_mode == 'single':\n",
      "            self.session._out('/PageLayout /SinglePage')\n",
      "        elif self.layout_mode == 'continuous':\n",
      "            self.session._out('/PageLayout /OneColumn')\n",
      "        elif self.layout_mode == 'two':\n",
      "            self.session._out('/PageLayout /TwoColumnLeft')\n",
      "        self.session._out('>>')\n",
      "        self.session._out('endobj')\n",
      "Target: Catalog object.\n",
      "Generated :Gets the ``OsidSession`` associated with the objective bank. arg: proxy (osid.proxy.Proxy): a\n",
      "---------------------------\n",
      "Code: def open_maybe_zipped(f, mode='r'):\n",
      "    _, archive, filename = ZIP_REGEX.search(f).groups()\n",
      "    if archive and zipfile.is_zipfile(archive):\n",
      "        return zipfile.ZipFile(archive, mode=mode).open(filename)\n",
      "    else:\n",
      "        return io.open(f, mode=mode)\n",
      "Target: Opens the given file. If the path contains a folder with a .zip suffix, then\n",
      "    the folder is treated as a zip archive, opening the file inside the archive.\n",
      "\n",
      "    :return: a file object, as in `open`, or as in `ZipFile.open`.\n",
      "Generated :Gets the ``OsidSession`` associated with the objective bank. arg: proxy (osid.proxy.Proxy): a\n",
      "---------------------------\n"
     ]
    },
    {
     "data": {
      "application/vnd.jupyter.widget-view+json": {
       "model_id": "1e37d32ffb7549ad9efe65891112ea87",
       "version_major": 2,
       "version_minor": 0
      },
      "text/plain": [
       "  0%|          | 0/19658 [00:00<?, ?it/s]"
      ]
     },
     "metadata": {},
     "output_type": "display_data"
    }
   ],
   "source": [
    "train_model(model, \n",
    "            optimizer=optim, \n",
    "            lr_scheduler=scheduler, \n",
    "            scheduler_step_frequency='step',\n",
    "            loaders=dataloaders, \n",
    "            max_epochs=MAX_EPOCHS, \n",
    "            device=device,\n",
    "            best_model=best_model,\n",
    "            patience=PATIENCE, \n",
    "            padding_idx=shared_spm.pad_id()\n",
    "            )"
   ]
  },
  {
   "cell_type": "code",
   "execution_count": null,
   "metadata": {},
   "outputs": [],
   "source": [
    "torch.cuda.empty_cache()"
   ]
  },
  {
   "cell_type": "code",
   "execution_count": null,
   "metadata": {
    "id": "GQeP6WZqjZC4"
   },
   "outputs": [],
   "source": [
    "with torch.no_grad():\n",
    "    code = \"def foo(x,y): x + y\"\n",
    "    inp = shared_spm.tokenize(code)\n",
    "    inp = torch.tensor(inp).view(1,-1)\n",
    "    generated = model.generate(input_ids=inp.to(model.device), \n",
    "                               decoder_start_token_id=shared_spm.bos_id(), \n",
    "                               num_beams=10,\n",
    "                               max_length=100, no_repeat_ngram_size=4)\n",
    "    generated = generated[0].cpu().tolist()\n",
    "    print(shared_spm.decode(generated))"
   ]
  }
 ],
 "metadata": {
  "accelerator": "GPU",
  "colab": {
   "collapsed_sections": [],
   "name": "Fine-tuning code_to_docstring transformer model",
   "provenance": []
  },
  "kernelspec": {
   "display_name": "Python 3",
   "language": "python",
   "name": "python3"
  },
  "language_info": {
   "codemirror_mode": {
    "name": "ipython",
    "version": 3
   },
   "file_extension": ".py",
   "mimetype": "text/x-python",
   "name": "python",
   "nbconvert_exporter": "python",
   "pygments_lexer": "ipython3",
   "version": "3.9.5"
  },
  "widgets": {
   "application/vnd.jupyter.widget-state+json": {
    "0170af284d8f461185a74a9e846ad69e": {
     "model_module": "@jupyter-widgets/base",
     "model_name": "LayoutModel",
     "state": {
      "_model_module": "@jupyter-widgets/base",
      "_model_module_version": "1.2.0",
      "_model_name": "LayoutModel",
      "_view_count": null,
      "_view_module": "@jupyter-widgets/base",
      "_view_module_version": "1.2.0",
      "_view_name": "LayoutView",
      "align_content": null,
      "align_items": null,
      "align_self": null,
      "border": null,
      "bottom": null,
      "display": null,
      "flex": null,
      "flex_flow": null,
      "grid_area": null,
      "grid_auto_columns": null,
      "grid_auto_flow": null,
      "grid_auto_rows": null,
      "grid_column": null,
      "grid_gap": null,
      "grid_row": null,
      "grid_template_areas": null,
      "grid_template_columns": null,
      "grid_template_rows": null,
      "height": null,
      "justify_content": null,
      "justify_items": null,
      "left": null,
      "margin": null,
      "max_height": null,
      "max_width": null,
      "min_height": null,
      "min_width": null,
      "object_fit": null,
      "object_position": null,
      "order": null,
      "overflow": null,
      "overflow_x": null,
      "overflow_y": null,
      "padding": null,
      "right": null,
      "top": null,
      "visibility": null,
      "width": null
     }
    },
    "0170fe02467340fb8bfcf58f0f59813d": {
     "model_module": "@jupyter-widgets/controls",
     "model_name": "DescriptionStyleModel",
     "state": {
      "_model_module": "@jupyter-widgets/controls",
      "_model_module_version": "1.5.0",
      "_model_name": "DescriptionStyleModel",
      "_view_count": null,
      "_view_module": "@jupyter-widgets/base",
      "_view_module_version": "1.2.0",
      "_view_name": "StyleView",
      "description_width": ""
     }
    },
    "032c5e2018084305857f9ad4c7a09ec3": {
     "model_module": "@jupyter-widgets/base",
     "model_name": "LayoutModel",
     "state": {
      "_model_module": "@jupyter-widgets/base",
      "_model_module_version": "1.2.0",
      "_model_name": "LayoutModel",
      "_view_count": null,
      "_view_module": "@jupyter-widgets/base",
      "_view_module_version": "1.2.0",
      "_view_name": "LayoutView",
      "align_content": null,
      "align_items": null,
      "align_self": null,
      "border": null,
      "bottom": null,
      "display": null,
      "flex": null,
      "flex_flow": null,
      "grid_area": null,
      "grid_auto_columns": null,
      "grid_auto_flow": null,
      "grid_auto_rows": null,
      "grid_column": null,
      "grid_gap": null,
      "grid_row": null,
      "grid_template_areas": null,
      "grid_template_columns": null,
      "grid_template_rows": null,
      "height": null,
      "justify_content": null,
      "justify_items": null,
      "left": null,
      "margin": null,
      "max_height": null,
      "max_width": null,
      "min_height": null,
      "min_width": null,
      "object_fit": null,
      "object_position": null,
      "order": null,
      "overflow": null,
      "overflow_x": null,
      "overflow_y": null,
      "padding": null,
      "right": null,
      "top": null,
      "visibility": null,
      "width": null
     }
    },
    "04d20bb756174e6eae44bf594c67bf10": {
     "model_module": "@jupyter-widgets/controls",
     "model_name": "FloatProgressModel",
     "state": {
      "_dom_classes": [],
      "_model_module": "@jupyter-widgets/controls",
      "_model_module_version": "1.5.0",
      "_model_name": "FloatProgressModel",
      "_view_count": null,
      "_view_module": "@jupyter-widgets/controls",
      "_view_module_version": "1.5.0",
      "_view_name": "ProgressView",
      "bar_style": "",
      "description": " 25%",
      "description_tooltip": null,
      "layout": "IPY_MODEL_b3974ec9f1be45fcae9f3ac5dd43af5e",
      "max": 4,
      "min": 0,
      "orientation": "horizontal",
      "style": "IPY_MODEL_bd97154633b2421bb3f478889c5c58f7",
      "value": 1
     }
    },
    "065c90a0fb96402695ecb3d0723bea64": {
     "model_module": "@jupyter-widgets/base",
     "model_name": "LayoutModel",
     "state": {
      "_model_module": "@jupyter-widgets/base",
      "_model_module_version": "1.2.0",
      "_model_name": "LayoutModel",
      "_view_count": null,
      "_view_module": "@jupyter-widgets/base",
      "_view_module_version": "1.2.0",
      "_view_name": "LayoutView",
      "align_content": null,
      "align_items": null,
      "align_self": null,
      "border": null,
      "bottom": null,
      "display": null,
      "flex": null,
      "flex_flow": null,
      "grid_area": null,
      "grid_auto_columns": null,
      "grid_auto_flow": null,
      "grid_auto_rows": null,
      "grid_column": null,
      "grid_gap": null,
      "grid_row": null,
      "grid_template_areas": null,
      "grid_template_columns": null,
      "grid_template_rows": null,
      "height": null,
      "justify_content": null,
      "justify_items": null,
      "left": null,
      "margin": null,
      "max_height": null,
      "max_width": null,
      "min_height": null,
      "min_width": null,
      "object_fit": null,
      "object_position": null,
      "order": null,
      "overflow": null,
      "overflow_x": null,
      "overflow_y": null,
      "padding": null,
      "right": null,
      "top": null,
      "visibility": null,
      "width": null
     }
    },
    "08310e3e94964cdda729f31fcf46e9fd": {
     "model_module": "@jupyter-widgets/controls",
     "model_name": "FloatProgressModel",
     "state": {
      "_dom_classes": [],
      "_model_module": "@jupyter-widgets/controls",
      "_model_module_version": "1.5.0",
      "_model_name": "FloatProgressModel",
      "_view_count": null,
      "_view_module": "@jupyter-widgets/controls",
      "_view_module_version": "1.5.0",
      "_view_name": "ProgressView",
      "bar_style": "success",
      "description": "100%",
      "description_tooltip": null,
      "layout": "IPY_MODEL_26a9432d39384357ae6895db77cd306e",
      "max": 2241,
      "min": 0,
      "orientation": "horizontal",
      "style": "IPY_MODEL_49afa35c19414cff826aac49f948ad4f",
      "value": 2241
     }
    },
    "0ff4d3c660114a90a9ecbcc8b74b03fc": {
     "model_module": "@jupyter-widgets/controls",
     "model_name": "HBoxModel",
     "state": {
      "_dom_classes": [],
      "_model_module": "@jupyter-widgets/controls",
      "_model_module_version": "1.5.0",
      "_model_name": "HBoxModel",
      "_view_count": null,
      "_view_module": "@jupyter-widgets/controls",
      "_view_module_version": "1.5.0",
      "_view_name": "HBoxView",
      "box_style": "",
      "children": [
       "IPY_MODEL_4c951b96425242a9969c08101c187198",
       "IPY_MODEL_a23d31de48ee4de99a6bfbe75d9d5382"
      ],
      "layout": "IPY_MODEL_dbfe2779d8be4d1882e2e8567b96d1b1"
     }
    },
    "18459f31bb9543aa8ad3c2420e134ab2": {
     "model_module": "@jupyter-widgets/controls",
     "model_name": "HTMLModel",
     "state": {
      "_dom_classes": [],
      "_model_module": "@jupyter-widgets/controls",
      "_model_module_version": "1.5.0",
      "_model_name": "HTMLModel",
      "_view_count": null,
      "_view_module": "@jupyter-widgets/controls",
      "_view_module_version": "1.5.0",
      "_view_name": "HTMLView",
      "description": "",
      "description_tooltip": null,
      "layout": "IPY_MODEL_56b0c2d6c01a40eaaec787f2427c9ea4",
      "placeholder": "​",
      "style": "IPY_MODEL_7a6074e43d65464f8ca5a088ba075ce5",
      "value": " 39957/39957 [57:28&lt;00:00, 11.59it/s]"
     }
    },
    "1bd81390f4d7430e981c1f13a1c79d7f": {
     "model_module": "@jupyter-widgets/base",
     "model_name": "LayoutModel",
     "state": {
      "_model_module": "@jupyter-widgets/base",
      "_model_module_version": "1.2.0",
      "_model_name": "LayoutModel",
      "_view_count": null,
      "_view_module": "@jupyter-widgets/base",
      "_view_module_version": "1.2.0",
      "_view_name": "LayoutView",
      "align_content": null,
      "align_items": null,
      "align_self": null,
      "border": null,
      "bottom": null,
      "display": null,
      "flex": null,
      "flex_flow": null,
      "grid_area": null,
      "grid_auto_columns": null,
      "grid_auto_flow": null,
      "grid_auto_rows": null,
      "grid_column": null,
      "grid_gap": null,
      "grid_row": null,
      "grid_template_areas": null,
      "grid_template_columns": null,
      "grid_template_rows": null,
      "height": null,
      "justify_content": null,
      "justify_items": null,
      "left": null,
      "margin": null,
      "max_height": null,
      "max_width": null,
      "min_height": null,
      "min_width": null,
      "object_fit": null,
      "object_position": null,
      "order": null,
      "overflow": null,
      "overflow_x": null,
      "overflow_y": null,
      "padding": null,
      "right": null,
      "top": null,
      "visibility": null,
      "width": null
     }
    },
    "1c5c8da1be4f40d5b2a9e9ac46c643f6": {
     "model_module": "@jupyter-widgets/base",
     "model_name": "LayoutModel",
     "state": {
      "_model_module": "@jupyter-widgets/base",
      "_model_module_version": "1.2.0",
      "_model_name": "LayoutModel",
      "_view_count": null,
      "_view_module": "@jupyter-widgets/base",
      "_view_module_version": "1.2.0",
      "_view_name": "LayoutView",
      "align_content": null,
      "align_items": null,
      "align_self": null,
      "border": null,
      "bottom": null,
      "display": null,
      "flex": null,
      "flex_flow": null,
      "grid_area": null,
      "grid_auto_columns": null,
      "grid_auto_flow": null,
      "grid_auto_rows": null,
      "grid_column": null,
      "grid_gap": null,
      "grid_row": null,
      "grid_template_areas": null,
      "grid_template_columns": null,
      "grid_template_rows": null,
      "height": null,
      "justify_content": null,
      "justify_items": null,
      "left": null,
      "margin": null,
      "max_height": null,
      "max_width": null,
      "min_height": null,
      "min_width": null,
      "object_fit": null,
      "object_position": null,
      "order": null,
      "overflow": null,
      "overflow_x": null,
      "overflow_y": null,
      "padding": null,
      "right": null,
      "top": null,
      "visibility": null,
      "width": null
     }
    },
    "1ce0ebb938304d5cafa1b5f23f8ecf69": {
     "model_module": "@jupyter-widgets/base",
     "model_name": "LayoutModel",
     "state": {
      "_model_module": "@jupyter-widgets/base",
      "_model_module_version": "1.2.0",
      "_model_name": "LayoutModel",
      "_view_count": null,
      "_view_module": "@jupyter-widgets/base",
      "_view_module_version": "1.2.0",
      "_view_name": "LayoutView",
      "align_content": null,
      "align_items": null,
      "align_self": null,
      "border": null,
      "bottom": null,
      "display": null,
      "flex": null,
      "flex_flow": null,
      "grid_area": null,
      "grid_auto_columns": null,
      "grid_auto_flow": null,
      "grid_auto_rows": null,
      "grid_column": null,
      "grid_gap": null,
      "grid_row": null,
      "grid_template_areas": null,
      "grid_template_columns": null,
      "grid_template_rows": null,
      "height": null,
      "justify_content": null,
      "justify_items": null,
      "left": null,
      "margin": null,
      "max_height": null,
      "max_width": null,
      "min_height": null,
      "min_width": null,
      "object_fit": null,
      "object_position": null,
      "order": null,
      "overflow": null,
      "overflow_x": null,
      "overflow_y": null,
      "padding": null,
      "right": null,
      "top": null,
      "visibility": null,
      "width": null
     }
    },
    "224af8630019457ba874067c146f1bba": {
     "model_module": "@jupyter-widgets/base",
     "model_name": "LayoutModel",
     "state": {
      "_model_module": "@jupyter-widgets/base",
      "_model_module_version": "1.2.0",
      "_model_name": "LayoutModel",
      "_view_count": null,
      "_view_module": "@jupyter-widgets/base",
      "_view_module_version": "1.2.0",
      "_view_name": "LayoutView",
      "align_content": null,
      "align_items": null,
      "align_self": null,
      "border": null,
      "bottom": null,
      "display": null,
      "flex": null,
      "flex_flow": null,
      "grid_area": null,
      "grid_auto_columns": null,
      "grid_auto_flow": null,
      "grid_auto_rows": null,
      "grid_column": null,
      "grid_gap": null,
      "grid_row": null,
      "grid_template_areas": null,
      "grid_template_columns": null,
      "grid_template_rows": null,
      "height": null,
      "justify_content": null,
      "justify_items": null,
      "left": null,
      "margin": null,
      "max_height": null,
      "max_width": null,
      "min_height": null,
      "min_width": null,
      "object_fit": null,
      "object_position": null,
      "order": null,
      "overflow": null,
      "overflow_x": null,
      "overflow_y": null,
      "padding": null,
      "right": null,
      "top": null,
      "visibility": null,
      "width": null
     }
    },
    "26a9432d39384357ae6895db77cd306e": {
     "model_module": "@jupyter-widgets/base",
     "model_name": "LayoutModel",
     "state": {
      "_model_module": "@jupyter-widgets/base",
      "_model_module_version": "1.2.0",
      "_model_name": "LayoutModel",
      "_view_count": null,
      "_view_module": "@jupyter-widgets/base",
      "_view_module_version": "1.2.0",
      "_view_name": "LayoutView",
      "align_content": null,
      "align_items": null,
      "align_self": null,
      "border": null,
      "bottom": null,
      "display": null,
      "flex": null,
      "flex_flow": null,
      "grid_area": null,
      "grid_auto_columns": null,
      "grid_auto_flow": null,
      "grid_auto_rows": null,
      "grid_column": null,
      "grid_gap": null,
      "grid_row": null,
      "grid_template_areas": null,
      "grid_template_columns": null,
      "grid_template_rows": null,
      "height": null,
      "justify_content": null,
      "justify_items": null,
      "left": null,
      "margin": null,
      "max_height": null,
      "max_width": null,
      "min_height": null,
      "min_width": null,
      "object_fit": null,
      "object_position": null,
      "order": null,
      "overflow": null,
      "overflow_x": null,
      "overflow_y": null,
      "padding": null,
      "right": null,
      "top": null,
      "visibility": null,
      "width": null
     }
    },
    "27d1422d4bd042938661ac7bab629c0e": {
     "model_module": "@jupyter-widgets/controls",
     "model_name": "HBoxModel",
     "state": {
      "_dom_classes": [],
      "_model_module": "@jupyter-widgets/controls",
      "_model_module_version": "1.5.0",
      "_model_name": "HBoxModel",
      "_view_count": null,
      "_view_module": "@jupyter-widgets/controls",
      "_view_module_version": "1.5.0",
      "_view_name": "HBoxView",
      "box_style": "",
      "children": [
       "IPY_MODEL_963f53c3cf404e7595dc554fc63d4df4",
       "IPY_MODEL_74203a2bcb2a4e3e9fb71ca475f9c259"
      ],
      "layout": "IPY_MODEL_4505a00686194672ae8925431e44d346"
     }
    },
    "27e4dd787061427591847cb34c3b03ae": {
     "model_module": "@jupyter-widgets/controls",
     "model_name": "ProgressStyleModel",
     "state": {
      "_model_module": "@jupyter-widgets/controls",
      "_model_module_version": "1.5.0",
      "_model_name": "ProgressStyleModel",
      "_view_count": null,
      "_view_module": "@jupyter-widgets/base",
      "_view_module_version": "1.2.0",
      "_view_name": "StyleView",
      "bar_color": null,
      "description_width": "initial"
     }
    },
    "32ce0ac9d280447587bd4eda65a190d4": {
     "model_module": "@jupyter-widgets/base",
     "model_name": "LayoutModel",
     "state": {
      "_model_module": "@jupyter-widgets/base",
      "_model_module_version": "1.2.0",
      "_model_name": "LayoutModel",
      "_view_count": null,
      "_view_module": "@jupyter-widgets/base",
      "_view_module_version": "1.2.0",
      "_view_name": "LayoutView",
      "align_content": null,
      "align_items": null,
      "align_self": null,
      "border": null,
      "bottom": null,
      "display": null,
      "flex": null,
      "flex_flow": null,
      "grid_area": null,
      "grid_auto_columns": null,
      "grid_auto_flow": null,
      "grid_auto_rows": null,
      "grid_column": null,
      "grid_gap": null,
      "grid_row": null,
      "grid_template_areas": null,
      "grid_template_columns": null,
      "grid_template_rows": null,
      "height": null,
      "justify_content": null,
      "justify_items": null,
      "left": null,
      "margin": null,
      "max_height": null,
      "max_width": null,
      "min_height": null,
      "min_width": null,
      "object_fit": null,
      "object_position": null,
      "order": null,
      "overflow": null,
      "overflow_x": null,
      "overflow_y": null,
      "padding": null,
      "right": null,
      "top": null,
      "visibility": null,
      "width": null
     }
    },
    "34cd929da6c244b4a4d5cb7dbb1a2e0a": {
     "model_module": "@jupyter-widgets/base",
     "model_name": "LayoutModel",
     "state": {
      "_model_module": "@jupyter-widgets/base",
      "_model_module_version": "1.2.0",
      "_model_name": "LayoutModel",
      "_view_count": null,
      "_view_module": "@jupyter-widgets/base",
      "_view_module_version": "1.2.0",
      "_view_name": "LayoutView",
      "align_content": null,
      "align_items": null,
      "align_self": null,
      "border": null,
      "bottom": null,
      "display": null,
      "flex": null,
      "flex_flow": null,
      "grid_area": null,
      "grid_auto_columns": null,
      "grid_auto_flow": null,
      "grid_auto_rows": null,
      "grid_column": null,
      "grid_gap": null,
      "grid_row": null,
      "grid_template_areas": null,
      "grid_template_columns": null,
      "grid_template_rows": null,
      "height": null,
      "justify_content": null,
      "justify_items": null,
      "left": null,
      "margin": null,
      "max_height": null,
      "max_width": null,
      "min_height": null,
      "min_width": null,
      "object_fit": null,
      "object_position": null,
      "order": null,
      "overflow": null,
      "overflow_x": null,
      "overflow_y": null,
      "padding": null,
      "right": null,
      "top": null,
      "visibility": null,
      "width": null
     }
    },
    "368178aefa7e465aa82222bef29cbed5": {
     "model_module": "@jupyter-widgets/base",
     "model_name": "LayoutModel",
     "state": {
      "_model_module": "@jupyter-widgets/base",
      "_model_module_version": "1.2.0",
      "_model_name": "LayoutModel",
      "_view_count": null,
      "_view_module": "@jupyter-widgets/base",
      "_view_module_version": "1.2.0",
      "_view_name": "LayoutView",
      "align_content": null,
      "align_items": null,
      "align_self": null,
      "border": null,
      "bottom": null,
      "display": null,
      "flex": null,
      "flex_flow": null,
      "grid_area": null,
      "grid_auto_columns": null,
      "grid_auto_flow": null,
      "grid_auto_rows": null,
      "grid_column": null,
      "grid_gap": null,
      "grid_row": null,
      "grid_template_areas": null,
      "grid_template_columns": null,
      "grid_template_rows": null,
      "height": null,
      "justify_content": null,
      "justify_items": null,
      "left": null,
      "margin": null,
      "max_height": null,
      "max_width": null,
      "min_height": null,
      "min_width": null,
      "object_fit": null,
      "object_position": null,
      "order": null,
      "overflow": null,
      "overflow_x": null,
      "overflow_y": null,
      "padding": null,
      "right": null,
      "top": null,
      "visibility": null,
      "width": null
     }
    },
    "3a0d782f37e645fe9445b1fdc3acfde9": {
     "model_module": "@jupyter-widgets/controls",
     "model_name": "HBoxModel",
     "state": {
      "_dom_classes": [],
      "_model_module": "@jupyter-widgets/controls",
      "_model_module_version": "1.5.0",
      "_model_name": "HBoxModel",
      "_view_count": null,
      "_view_module": "@jupyter-widgets/controls",
      "_view_module_version": "1.5.0",
      "_view_name": "HBoxView",
      "box_style": "",
      "children": [
       "IPY_MODEL_a6bc9d0d8020406f85570c441ebb03a9",
       "IPY_MODEL_7763b7074338498cbdd0ce8fa9534564"
      ],
      "layout": "IPY_MODEL_065c90a0fb96402695ecb3d0723bea64"
     }
    },
    "3aed8bcf8b564a48a638cadc0b0151e3": {
     "model_module": "@jupyter-widgets/base",
     "model_name": "LayoutModel",
     "state": {
      "_model_module": "@jupyter-widgets/base",
      "_model_module_version": "1.2.0",
      "_model_name": "LayoutModel",
      "_view_count": null,
      "_view_module": "@jupyter-widgets/base",
      "_view_module_version": "1.2.0",
      "_view_name": "LayoutView",
      "align_content": null,
      "align_items": null,
      "align_self": null,
      "border": null,
      "bottom": null,
      "display": null,
      "flex": null,
      "flex_flow": null,
      "grid_area": null,
      "grid_auto_columns": null,
      "grid_auto_flow": null,
      "grid_auto_rows": null,
      "grid_column": null,
      "grid_gap": null,
      "grid_row": null,
      "grid_template_areas": null,
      "grid_template_columns": null,
      "grid_template_rows": null,
      "height": null,
      "justify_content": null,
      "justify_items": null,
      "left": null,
      "margin": null,
      "max_height": null,
      "max_width": null,
      "min_height": null,
      "min_width": null,
      "object_fit": null,
      "object_position": null,
      "order": null,
      "overflow": null,
      "overflow_x": null,
      "overflow_y": null,
      "padding": null,
      "right": null,
      "top": null,
      "visibility": null,
      "width": null
     }
    },
    "3d82364d3bef42fcb15d324891e709e3": {
     "model_module": "@jupyter-widgets/controls",
     "model_name": "ProgressStyleModel",
     "state": {
      "_model_module": "@jupyter-widgets/controls",
      "_model_module_version": "1.5.0",
      "_model_name": "ProgressStyleModel",
      "_view_count": null,
      "_view_module": "@jupyter-widgets/base",
      "_view_module_version": "1.2.0",
      "_view_name": "StyleView",
      "bar_color": null,
      "description_width": "initial"
     }
    },
    "41836f7bf92c4cc5b7d0ed6753d7566f": {
     "model_module": "@jupyter-widgets/controls",
     "model_name": "DescriptionStyleModel",
     "state": {
      "_model_module": "@jupyter-widgets/controls",
      "_model_module_version": "1.5.0",
      "_model_name": "DescriptionStyleModel",
      "_view_count": null,
      "_view_module": "@jupyter-widgets/base",
      "_view_module_version": "1.2.0",
      "_view_name": "StyleView",
      "description_width": ""
     }
    },
    "4505a00686194672ae8925431e44d346": {
     "model_module": "@jupyter-widgets/base",
     "model_name": "LayoutModel",
     "state": {
      "_model_module": "@jupyter-widgets/base",
      "_model_module_version": "1.2.0",
      "_model_name": "LayoutModel",
      "_view_count": null,
      "_view_module": "@jupyter-widgets/base",
      "_view_module_version": "1.2.0",
      "_view_name": "LayoutView",
      "align_content": null,
      "align_items": null,
      "align_self": null,
      "border": null,
      "bottom": null,
      "display": null,
      "flex": null,
      "flex_flow": null,
      "grid_area": null,
      "grid_auto_columns": null,
      "grid_auto_flow": null,
      "grid_auto_rows": null,
      "grid_column": null,
      "grid_gap": null,
      "grid_row": null,
      "grid_template_areas": null,
      "grid_template_columns": null,
      "grid_template_rows": null,
      "height": null,
      "justify_content": null,
      "justify_items": null,
      "left": null,
      "margin": null,
      "max_height": null,
      "max_width": null,
      "min_height": null,
      "min_width": null,
      "object_fit": null,
      "object_position": null,
      "order": null,
      "overflow": null,
      "overflow_x": null,
      "overflow_y": null,
      "padding": null,
      "right": null,
      "top": null,
      "visibility": null,
      "width": null
     }
    },
    "464a8630bb5344be9af17d2e3b234544": {
     "model_module": "@jupyter-widgets/base",
     "model_name": "LayoutModel",
     "state": {
      "_model_module": "@jupyter-widgets/base",
      "_model_module_version": "1.2.0",
      "_model_name": "LayoutModel",
      "_view_count": null,
      "_view_module": "@jupyter-widgets/base",
      "_view_module_version": "1.2.0",
      "_view_name": "LayoutView",
      "align_content": null,
      "align_items": null,
      "align_self": null,
      "border": null,
      "bottom": null,
      "display": null,
      "flex": null,
      "flex_flow": null,
      "grid_area": null,
      "grid_auto_columns": null,
      "grid_auto_flow": null,
      "grid_auto_rows": null,
      "grid_column": null,
      "grid_gap": null,
      "grid_row": null,
      "grid_template_areas": null,
      "grid_template_columns": null,
      "grid_template_rows": null,
      "height": null,
      "justify_content": null,
      "justify_items": null,
      "left": null,
      "margin": null,
      "max_height": null,
      "max_width": null,
      "min_height": null,
      "min_width": null,
      "object_fit": null,
      "object_position": null,
      "order": null,
      "overflow": null,
      "overflow_x": null,
      "overflow_y": null,
      "padding": null,
      "right": null,
      "top": null,
      "visibility": null,
      "width": null
     }
    },
    "49afa35c19414cff826aac49f948ad4f": {
     "model_module": "@jupyter-widgets/controls",
     "model_name": "ProgressStyleModel",
     "state": {
      "_model_module": "@jupyter-widgets/controls",
      "_model_module_version": "1.5.0",
      "_model_name": "ProgressStyleModel",
      "_view_count": null,
      "_view_module": "@jupyter-widgets/base",
      "_view_module_version": "1.2.0",
      "_view_name": "StyleView",
      "bar_color": null,
      "description_width": "initial"
     }
    },
    "4c05e986759b450abe976683f157af42": {
     "model_module": "@jupyter-widgets/controls",
     "model_name": "HTMLModel",
     "state": {
      "_dom_classes": [],
      "_model_module": "@jupyter-widgets/controls",
      "_model_module_version": "1.5.0",
      "_model_name": "HTMLModel",
      "_view_count": null,
      "_view_module": "@jupyter-widgets/controls",
      "_view_module_version": "1.5.0",
      "_view_name": "HTMLView",
      "description": "",
      "description_tooltip": null,
      "layout": "IPY_MODEL_32ce0ac9d280447587bd4eda65a190d4",
      "placeholder": "​",
      "style": "IPY_MODEL_5040d47de6a54a4eb48097a58a2dab1d",
      "value": " 2258/2258 [00:01&lt;00:00, 1152.21it/s]"
     }
    },
    "4c951b96425242a9969c08101c187198": {
     "model_module": "@jupyter-widgets/controls",
     "model_name": "FloatProgressModel",
     "state": {
      "_dom_classes": [],
      "_model_module": "@jupyter-widgets/controls",
      "_model_module_version": "1.5.0",
      "_model_name": "FloatProgressModel",
      "_view_count": null,
      "_view_module": "@jupyter-widgets/controls",
      "_view_module_version": "1.5.0",
      "_view_name": "ProgressView",
      "bar_style": "",
      "description": " 29%",
      "description_tooltip": null,
      "layout": "IPY_MODEL_368178aefa7e465aa82222bef29cbed5",
      "max": 4995,
      "min": 0,
      "orientation": "horizontal",
      "style": "IPY_MODEL_c211b46cfe6f4f90b762aad20f7ee2b9",
      "value": 1451
     }
    },
    "4cac3adb7ea2492882f11a42f8558189": {
     "model_module": "@jupyter-widgets/base",
     "model_name": "LayoutModel",
     "state": {
      "_model_module": "@jupyter-widgets/base",
      "_model_module_version": "1.2.0",
      "_model_name": "LayoutModel",
      "_view_count": null,
      "_view_module": "@jupyter-widgets/base",
      "_view_module_version": "1.2.0",
      "_view_name": "LayoutView",
      "align_content": null,
      "align_items": null,
      "align_self": null,
      "border": null,
      "bottom": null,
      "display": null,
      "flex": null,
      "flex_flow": null,
      "grid_area": null,
      "grid_auto_columns": null,
      "grid_auto_flow": null,
      "grid_auto_rows": null,
      "grid_column": null,
      "grid_gap": null,
      "grid_row": null,
      "grid_template_areas": null,
      "grid_template_columns": null,
      "grid_template_rows": null,
      "height": null,
      "justify_content": null,
      "justify_items": null,
      "left": null,
      "margin": null,
      "max_height": null,
      "max_width": null,
      "min_height": null,
      "min_width": null,
      "object_fit": null,
      "object_position": null,
      "order": null,
      "overflow": null,
      "overflow_x": null,
      "overflow_y": null,
      "padding": null,
      "right": null,
      "top": null,
      "visibility": null,
      "width": null
     }
    },
    "4f31cb2b4adf4756ab2d5e08fd980436": {
     "model_module": "@jupyter-widgets/base",
     "model_name": "LayoutModel",
     "state": {
      "_model_module": "@jupyter-widgets/base",
      "_model_module_version": "1.2.0",
      "_model_name": "LayoutModel",
      "_view_count": null,
      "_view_module": "@jupyter-widgets/base",
      "_view_module_version": "1.2.0",
      "_view_name": "LayoutView",
      "align_content": null,
      "align_items": null,
      "align_self": null,
      "border": null,
      "bottom": null,
      "display": null,
      "flex": null,
      "flex_flow": null,
      "grid_area": null,
      "grid_auto_columns": null,
      "grid_auto_flow": null,
      "grid_auto_rows": null,
      "grid_column": null,
      "grid_gap": null,
      "grid_row": null,
      "grid_template_areas": null,
      "grid_template_columns": null,
      "grid_template_rows": null,
      "height": null,
      "justify_content": null,
      "justify_items": null,
      "left": null,
      "margin": null,
      "max_height": null,
      "max_width": null,
      "min_height": null,
      "min_width": null,
      "object_fit": null,
      "object_position": null,
      "order": null,
      "overflow": null,
      "overflow_x": null,
      "overflow_y": null,
      "padding": null,
      "right": null,
      "top": null,
      "visibility": null,
      "width": null
     }
    },
    "5040d47de6a54a4eb48097a58a2dab1d": {
     "model_module": "@jupyter-widgets/controls",
     "model_name": "DescriptionStyleModel",
     "state": {
      "_model_module": "@jupyter-widgets/controls",
      "_model_module_version": "1.5.0",
      "_model_name": "DescriptionStyleModel",
      "_view_count": null,
      "_view_module": "@jupyter-widgets/base",
      "_view_module_version": "1.2.0",
      "_view_name": "StyleView",
      "description_width": ""
     }
    },
    "56b0c2d6c01a40eaaec787f2427c9ea4": {
     "model_module": "@jupyter-widgets/base",
     "model_name": "LayoutModel",
     "state": {
      "_model_module": "@jupyter-widgets/base",
      "_model_module_version": "1.2.0",
      "_model_name": "LayoutModel",
      "_view_count": null,
      "_view_module": "@jupyter-widgets/base",
      "_view_module_version": "1.2.0",
      "_view_name": "LayoutView",
      "align_content": null,
      "align_items": null,
      "align_self": null,
      "border": null,
      "bottom": null,
      "display": null,
      "flex": null,
      "flex_flow": null,
      "grid_area": null,
      "grid_auto_columns": null,
      "grid_auto_flow": null,
      "grid_auto_rows": null,
      "grid_column": null,
      "grid_gap": null,
      "grid_row": null,
      "grid_template_areas": null,
      "grid_template_columns": null,
      "grid_template_rows": null,
      "height": null,
      "justify_content": null,
      "justify_items": null,
      "left": null,
      "margin": null,
      "max_height": null,
      "max_width": null,
      "min_height": null,
      "min_width": null,
      "object_fit": null,
      "object_position": null,
      "order": null,
      "overflow": null,
      "overflow_x": null,
      "overflow_y": null,
      "padding": null,
      "right": null,
      "top": null,
      "visibility": null,
      "width": null
     }
    },
    "58411f1b150249a39158f7ed1e254206": {
     "model_module": "@jupyter-widgets/controls",
     "model_name": "HBoxModel",
     "state": {
      "_dom_classes": [],
      "_model_module": "@jupyter-widgets/controls",
      "_model_module_version": "1.5.0",
      "_model_name": "HBoxModel",
      "_view_count": null,
      "_view_module": "@jupyter-widgets/controls",
      "_view_module_version": "1.5.0",
      "_view_name": "HBoxView",
      "box_style": "",
      "children": [
       "IPY_MODEL_a6eb37f358354c1abd67c876691036c9",
       "IPY_MODEL_4c05e986759b450abe976683f157af42"
      ],
      "layout": "IPY_MODEL_ac1cc59595cd40af90daa26387f853f0"
     }
    },
    "5b3278fc935e4d07b65aa735590758f9": {
     "model_module": "@jupyter-widgets/controls",
     "model_name": "FloatProgressModel",
     "state": {
      "_dom_classes": [],
      "_model_module": "@jupyter-widgets/controls",
      "_model_module_version": "1.5.0",
      "_model_name": "FloatProgressModel",
      "_view_count": null,
      "_view_module": "@jupyter-widgets/controls",
      "_view_module_version": "1.5.0",
      "_view_name": "ProgressView",
      "bar_style": "success",
      "description": "100%",
      "description_tooltip": null,
      "layout": "IPY_MODEL_1c5c8da1be4f40d5b2a9e9ac46c643f6",
      "max": 2241,
      "min": 0,
      "orientation": "horizontal",
      "style": "IPY_MODEL_27e4dd787061427591847cb34c3b03ae",
      "value": 2241
     }
    },
    "5b510735452c441f9a855ea43b2b3b6d": {
     "model_module": "@jupyter-widgets/base",
     "model_name": "LayoutModel",
     "state": {
      "_model_module": "@jupyter-widgets/base",
      "_model_module_version": "1.2.0",
      "_model_name": "LayoutModel",
      "_view_count": null,
      "_view_module": "@jupyter-widgets/base",
      "_view_module_version": "1.2.0",
      "_view_name": "LayoutView",
      "align_content": null,
      "align_items": null,
      "align_self": null,
      "border": null,
      "bottom": null,
      "display": null,
      "flex": null,
      "flex_flow": null,
      "grid_area": null,
      "grid_auto_columns": null,
      "grid_auto_flow": null,
      "grid_auto_rows": null,
      "grid_column": null,
      "grid_gap": null,
      "grid_row": null,
      "grid_template_areas": null,
      "grid_template_columns": null,
      "grid_template_rows": null,
      "height": null,
      "justify_content": null,
      "justify_items": null,
      "left": null,
      "margin": null,
      "max_height": null,
      "max_width": null,
      "min_height": null,
      "min_width": null,
      "object_fit": null,
      "object_position": null,
      "order": null,
      "overflow": null,
      "overflow_x": null,
      "overflow_y": null,
      "padding": null,
      "right": null,
      "top": null,
      "visibility": null,
      "width": null
     }
    },
    "677a45bd99784f26a4941aabb8784a04": {
     "model_module": "@jupyter-widgets/controls",
     "model_name": "HBoxModel",
     "state": {
      "_dom_classes": [],
      "_model_module": "@jupyter-widgets/controls",
      "_model_module_version": "1.5.0",
      "_model_name": "HBoxModel",
      "_view_count": null,
      "_view_module": "@jupyter-widgets/controls",
      "_view_module_version": "1.5.0",
      "_view_name": "HBoxView",
      "box_style": "",
      "children": [
       "IPY_MODEL_08310e3e94964cdda729f31fcf46e9fd",
       "IPY_MODEL_6c42ce2210784ffca06210211751bf60"
      ],
      "layout": "IPY_MODEL_93474465b1d0414ab292bd92aa4e39f4"
     }
    },
    "67bbfa6548a34d828cab44ecdb09acba": {
     "model_module": "@jupyter-widgets/base",
     "model_name": "LayoutModel",
     "state": {
      "_model_module": "@jupyter-widgets/base",
      "_model_module_version": "1.2.0",
      "_model_name": "LayoutModel",
      "_view_count": null,
      "_view_module": "@jupyter-widgets/base",
      "_view_module_version": "1.2.0",
      "_view_name": "LayoutView",
      "align_content": null,
      "align_items": null,
      "align_self": null,
      "border": null,
      "bottom": null,
      "display": null,
      "flex": null,
      "flex_flow": null,
      "grid_area": null,
      "grid_auto_columns": null,
      "grid_auto_flow": null,
      "grid_auto_rows": null,
      "grid_column": null,
      "grid_gap": null,
      "grid_row": null,
      "grid_template_areas": null,
      "grid_template_columns": null,
      "grid_template_rows": null,
      "height": null,
      "justify_content": null,
      "justify_items": null,
      "left": null,
      "margin": null,
      "max_height": null,
      "max_width": null,
      "min_height": null,
      "min_width": null,
      "object_fit": null,
      "object_position": null,
      "order": null,
      "overflow": null,
      "overflow_x": null,
      "overflow_y": null,
      "padding": null,
      "right": null,
      "top": null,
      "visibility": null,
      "width": null
     }
    },
    "6c42ce2210784ffca06210211751bf60": {
     "model_module": "@jupyter-widgets/controls",
     "model_name": "HTMLModel",
     "state": {
      "_dom_classes": [],
      "_model_module": "@jupyter-widgets/controls",
      "_model_module_version": "1.5.0",
      "_model_name": "HTMLModel",
      "_view_count": null,
      "_view_module": "@jupyter-widgets/controls",
      "_view_module_version": "1.5.0",
      "_view_name": "HTMLView",
      "description": "",
      "description_tooltip": null,
      "layout": "IPY_MODEL_032c5e2018084305857f9ad4c7a09ec3",
      "placeholder": "​",
      "style": "IPY_MODEL_b05d914f44bb4a269383636295f0ddfe",
      "value": " 2241/2241 [57:21&lt;00:00,  1.54s/it]"
     }
    },
    "6d40bb935de74b1499d2b33c8b7eca95": {
     "model_module": "@jupyter-widgets/controls",
     "model_name": "ProgressStyleModel",
     "state": {
      "_model_module": "@jupyter-widgets/controls",
      "_model_module_version": "1.5.0",
      "_model_name": "ProgressStyleModel",
      "_view_count": null,
      "_view_module": "@jupyter-widgets/base",
      "_view_module_version": "1.2.0",
      "_view_name": "StyleView",
      "bar_color": null,
      "description_width": "initial"
     }
    },
    "6e82cf5b42184e078e10c342adbf0fca": {
     "model_module": "@jupyter-widgets/controls",
     "model_name": "ProgressStyleModel",
     "state": {
      "_model_module": "@jupyter-widgets/controls",
      "_model_module_version": "1.5.0",
      "_model_name": "ProgressStyleModel",
      "_view_count": null,
      "_view_module": "@jupyter-widgets/base",
      "_view_module_version": "1.2.0",
      "_view_name": "StyleView",
      "bar_color": null,
      "description_width": "initial"
     }
    },
    "6f6a6fd0019b4e64aae6e8bbf8ce144d": {
     "model_module": "@jupyter-widgets/controls",
     "model_name": "HBoxModel",
     "state": {
      "_dom_classes": [],
      "_model_module": "@jupyter-widgets/controls",
      "_model_module_version": "1.5.0",
      "_model_name": "HBoxModel",
      "_view_count": null,
      "_view_module": "@jupyter-widgets/controls",
      "_view_module_version": "1.5.0",
      "_view_name": "HBoxView",
      "box_style": "",
      "children": [
       "IPY_MODEL_5b3278fc935e4d07b65aa735590758f9",
       "IPY_MODEL_f6d62ccd9c624855bb953f060020a79b"
      ],
      "layout": "IPY_MODEL_ad564ace58bc43738801d278055cf70b"
     }
    },
    "73cf070109c046a6ba833c860918b3df": {
     "model_module": "@jupyter-widgets/controls",
     "model_name": "DescriptionStyleModel",
     "state": {
      "_model_module": "@jupyter-widgets/controls",
      "_model_module_version": "1.5.0",
      "_model_name": "DescriptionStyleModel",
      "_view_count": null,
      "_view_module": "@jupyter-widgets/base",
      "_view_module_version": "1.2.0",
      "_view_name": "StyleView",
      "description_width": ""
     }
    },
    "74203a2bcb2a4e3e9fb71ca475f9c259": {
     "model_module": "@jupyter-widgets/controls",
     "model_name": "HTMLModel",
     "state": {
      "_dom_classes": [],
      "_model_module": "@jupyter-widgets/controls",
      "_model_module_version": "1.5.0",
      "_model_name": "HTMLModel",
      "_view_count": null,
      "_view_module": "@jupyter-widgets/controls",
      "_view_module_version": "1.5.0",
      "_view_name": "HTMLView",
      "description": "",
      "description_tooltip": null,
      "layout": "IPY_MODEL_c11e5211a0854a82978fef8e72d2b3ee",
      "placeholder": "​",
      "style": "IPY_MODEL_ec01cb9d81b947d395a473dba7a0be06",
      "value": " 4995/4995 [1:00:48&lt;00:00,  1.37it/s, avg_train_loss=5.71, train_step_loss=5.07]"
     }
    },
    "7476d0bd592843f1a06fbd3ce50b15cc": {
     "model_module": "@jupyter-widgets/controls",
     "model_name": "HTMLModel",
     "state": {
      "_dom_classes": [],
      "_model_module": "@jupyter-widgets/controls",
      "_model_module_version": "1.5.0",
      "_model_name": "HTMLModel",
      "_view_count": null,
      "_view_module": "@jupyter-widgets/controls",
      "_view_module_version": "1.5.0",
      "_view_name": "HTMLView",
      "description": "",
      "description_tooltip": null,
      "layout": "IPY_MODEL_4f31cb2b4adf4756ab2d5e08fd980436",
      "placeholder": "​",
      "style": "IPY_MODEL_cce045e884bd4aac874bc110c14e33b0",
      "value": " 1/4 [1:02:09&lt;3:06:27, 3729.24s/it]"
     }
    },
    "75cbbe18416b404d9c8b9d88415b05c5": {
     "model_module": "@jupyter-widgets/base",
     "model_name": "LayoutModel",
     "state": {
      "_model_module": "@jupyter-widgets/base",
      "_model_module_version": "1.2.0",
      "_model_name": "LayoutModel",
      "_view_count": null,
      "_view_module": "@jupyter-widgets/base",
      "_view_module_version": "1.2.0",
      "_view_name": "LayoutView",
      "align_content": null,
      "align_items": null,
      "align_self": null,
      "border": null,
      "bottom": null,
      "display": null,
      "flex": null,
      "flex_flow": null,
      "grid_area": null,
      "grid_auto_columns": null,
      "grid_auto_flow": null,
      "grid_auto_rows": null,
      "grid_column": null,
      "grid_gap": null,
      "grid_row": null,
      "grid_template_areas": null,
      "grid_template_columns": null,
      "grid_template_rows": null,
      "height": null,
      "justify_content": null,
      "justify_items": null,
      "left": null,
      "margin": null,
      "max_height": null,
      "max_width": null,
      "min_height": null,
      "min_width": null,
      "object_fit": null,
      "object_position": null,
      "order": null,
      "overflow": null,
      "overflow_x": null,
      "overflow_y": null,
      "padding": null,
      "right": null,
      "top": null,
      "visibility": null,
      "width": null
     }
    },
    "7763b7074338498cbdd0ce8fa9534564": {
     "model_module": "@jupyter-widgets/controls",
     "model_name": "HTMLModel",
     "state": {
      "_dom_classes": [],
      "_model_module": "@jupyter-widgets/controls",
      "_model_module_version": "1.5.0",
      "_model_name": "HTMLModel",
      "_view_count": null,
      "_view_module": "@jupyter-widgets/controls",
      "_view_module_version": "1.5.0",
      "_view_name": "HTMLView",
      "description": "",
      "description_tooltip": null,
      "layout": "IPY_MODEL_d4c264c0f19a4265af7148ac0814b48d",
      "placeholder": "​",
      "style": "IPY_MODEL_cdc8cb62d0e1416e90c791544be95f66",
      "value": " 40563/40563 [00:31&lt;00:00, 1274.88it/s]"
     }
    },
    "7a6074e43d65464f8ca5a088ba075ce5": {
     "model_module": "@jupyter-widgets/controls",
     "model_name": "DescriptionStyleModel",
     "state": {
      "_model_module": "@jupyter-widgets/controls",
      "_model_module_version": "1.5.0",
      "_model_name": "DescriptionStyleModel",
      "_view_count": null,
      "_view_module": "@jupyter-widgets/base",
      "_view_module_version": "1.2.0",
      "_view_name": "StyleView",
      "description_width": ""
     }
    },
    "7d17b5188a924dabbb4d4962d7b826ab": {
     "model_module": "@jupyter-widgets/base",
     "model_name": "LayoutModel",
     "state": {
      "_model_module": "@jupyter-widgets/base",
      "_model_module_version": "1.2.0",
      "_model_name": "LayoutModel",
      "_view_count": null,
      "_view_module": "@jupyter-widgets/base",
      "_view_module_version": "1.2.0",
      "_view_name": "LayoutView",
      "align_content": null,
      "align_items": null,
      "align_self": null,
      "border": null,
      "bottom": null,
      "display": null,
      "flex": null,
      "flex_flow": null,
      "grid_area": null,
      "grid_auto_columns": null,
      "grid_auto_flow": null,
      "grid_auto_rows": null,
      "grid_column": null,
      "grid_gap": null,
      "grid_row": null,
      "grid_template_areas": null,
      "grid_template_columns": null,
      "grid_template_rows": null,
      "height": null,
      "justify_content": null,
      "justify_items": null,
      "left": null,
      "margin": null,
      "max_height": null,
      "max_width": null,
      "min_height": null,
      "min_width": null,
      "object_fit": null,
      "object_position": null,
      "order": null,
      "overflow": null,
      "overflow_x": null,
      "overflow_y": null,
      "padding": null,
      "right": null,
      "top": null,
      "visibility": null,
      "width": null
     }
    },
    "8449169063654aca906068acff76652d": {
     "model_module": "@jupyter-widgets/base",
     "model_name": "LayoutModel",
     "state": {
      "_model_module": "@jupyter-widgets/base",
      "_model_module_version": "1.2.0",
      "_model_name": "LayoutModel",
      "_view_count": null,
      "_view_module": "@jupyter-widgets/base",
      "_view_module_version": "1.2.0",
      "_view_name": "LayoutView",
      "align_content": null,
      "align_items": null,
      "align_self": null,
      "border": null,
      "bottom": null,
      "display": null,
      "flex": null,
      "flex_flow": null,
      "grid_area": null,
      "grid_auto_columns": null,
      "grid_auto_flow": null,
      "grid_auto_rows": null,
      "grid_column": null,
      "grid_gap": null,
      "grid_row": null,
      "grid_template_areas": null,
      "grid_template_columns": null,
      "grid_template_rows": null,
      "height": null,
      "justify_content": null,
      "justify_items": null,
      "left": null,
      "margin": null,
      "max_height": null,
      "max_width": null,
      "min_height": null,
      "min_width": null,
      "object_fit": null,
      "object_position": null,
      "order": null,
      "overflow": null,
      "overflow_x": null,
      "overflow_y": null,
      "padding": null,
      "right": null,
      "top": null,
      "visibility": null,
      "width": null
     }
    },
    "851cf5a5b35142299d2761f0742841a6": {
     "model_module": "@jupyter-widgets/controls",
     "model_name": "ProgressStyleModel",
     "state": {
      "_model_module": "@jupyter-widgets/controls",
      "_model_module_version": "1.5.0",
      "_model_name": "ProgressStyleModel",
      "_view_count": null,
      "_view_module": "@jupyter-widgets/base",
      "_view_module_version": "1.2.0",
      "_view_name": "StyleView",
      "bar_color": null,
      "description_width": "initial"
     }
    },
    "87676b91d4834f93adb91622e59c63fd": {
     "model_module": "@jupyter-widgets/controls",
     "model_name": "HBoxModel",
     "state": {
      "_dom_classes": [],
      "_model_module": "@jupyter-widgets/controls",
      "_model_module_version": "1.5.0",
      "_model_name": "HBoxModel",
      "_view_count": null,
      "_view_module": "@jupyter-widgets/controls",
      "_view_module_version": "1.5.0",
      "_view_name": "HBoxView",
      "box_style": "",
      "children": [
       "IPY_MODEL_8a18144909074193bb17ea5c43c7ae11",
       "IPY_MODEL_fcf0e7e96aec45c8b5433524e769c957"
      ],
      "layout": "IPY_MODEL_67bbfa6548a34d828cab44ecdb09acba"
     }
    },
    "88991afeec49461e9aaff7a0d1da365b": {
     "model_module": "@jupyter-widgets/controls",
     "model_name": "HBoxModel",
     "state": {
      "_dom_classes": [],
      "_model_module": "@jupyter-widgets/controls",
      "_model_module_version": "1.5.0",
      "_model_name": "HBoxModel",
      "_view_count": null,
      "_view_module": "@jupyter-widgets/controls",
      "_view_module_version": "1.5.0",
      "_view_name": "HBoxView",
      "box_style": "",
      "children": [
       "IPY_MODEL_de2624bf5c7e4e1aaccdf867efced9f9",
       "IPY_MODEL_98f0e71a7a914a7ba68a24b8f79d72fe"
      ],
      "layout": "IPY_MODEL_0170af284d8f461185a74a9e846ad69e"
     }
    },
    "8a18144909074193bb17ea5c43c7ae11": {
     "model_module": "@jupyter-widgets/controls",
     "model_name": "FloatProgressModel",
     "state": {
      "_dom_classes": [],
      "_model_module": "@jupyter-widgets/controls",
      "_model_module_version": "1.5.0",
      "_model_name": "FloatProgressModel",
      "_view_count": null,
      "_view_module": "@jupyter-widgets/controls",
      "_view_module_version": "1.5.0",
      "_view_name": "ProgressView",
      "bar_style": "success",
      "description": "100%",
      "description_tooltip": null,
      "layout": "IPY_MODEL_e8d7607d2b8e40f88e2b433e3d649e21",
      "max": 39957,
      "min": 0,
      "orientation": "horizontal",
      "style": "IPY_MODEL_d83f2d363c544aadb23733b705a508e3",
      "value": 39957
     }
    },
    "8cca36eca10f45a9bd48aa9360c49253": {
     "model_module": "@jupyter-widgets/controls",
     "model_name": "DescriptionStyleModel",
     "state": {
      "_model_module": "@jupyter-widgets/controls",
      "_model_module_version": "1.5.0",
      "_model_name": "DescriptionStyleModel",
      "_view_count": null,
      "_view_module": "@jupyter-widgets/base",
      "_view_module_version": "1.2.0",
      "_view_name": "StyleView",
      "description_width": ""
     }
    },
    "8f0d023d16b840379f397ac8e7c3493c": {
     "model_module": "@jupyter-widgets/base",
     "model_name": "LayoutModel",
     "state": {
      "_model_module": "@jupyter-widgets/base",
      "_model_module_version": "1.2.0",
      "_model_name": "LayoutModel",
      "_view_count": null,
      "_view_module": "@jupyter-widgets/base",
      "_view_module_version": "1.2.0",
      "_view_name": "LayoutView",
      "align_content": null,
      "align_items": null,
      "align_self": null,
      "border": null,
      "bottom": null,
      "display": null,
      "flex": null,
      "flex_flow": null,
      "grid_area": null,
      "grid_auto_columns": null,
      "grid_auto_flow": null,
      "grid_auto_rows": null,
      "grid_column": null,
      "grid_gap": null,
      "grid_row": null,
      "grid_template_areas": null,
      "grid_template_columns": null,
      "grid_template_rows": null,
      "height": null,
      "justify_content": null,
      "justify_items": null,
      "left": null,
      "margin": null,
      "max_height": null,
      "max_width": null,
      "min_height": null,
      "min_width": null,
      "object_fit": null,
      "object_position": null,
      "order": null,
      "overflow": null,
      "overflow_x": null,
      "overflow_y": null,
      "padding": null,
      "right": null,
      "top": null,
      "visibility": null,
      "width": null
     }
    },
    "923942a6c1ba4257bdddc929c4ee6892": {
     "model_module": "@jupyter-widgets/controls",
     "model_name": "HBoxModel",
     "state": {
      "_dom_classes": [],
      "_model_module": "@jupyter-widgets/controls",
      "_model_module_version": "1.5.0",
      "_model_name": "HBoxModel",
      "_view_count": null,
      "_view_module": "@jupyter-widgets/controls",
      "_view_module_version": "1.5.0",
      "_view_name": "HBoxView",
      "box_style": "",
      "children": [
       "IPY_MODEL_04d20bb756174e6eae44bf594c67bf10",
       "IPY_MODEL_7476d0bd592843f1a06fbd3ce50b15cc"
      ],
      "layout": "IPY_MODEL_75cbbe18416b404d9c8b9d88415b05c5"
     }
    },
    "93474465b1d0414ab292bd92aa4e39f4": {
     "model_module": "@jupyter-widgets/base",
     "model_name": "LayoutModel",
     "state": {
      "_model_module": "@jupyter-widgets/base",
      "_model_module_version": "1.2.0",
      "_model_name": "LayoutModel",
      "_view_count": null,
      "_view_module": "@jupyter-widgets/base",
      "_view_module_version": "1.2.0",
      "_view_name": "LayoutView",
      "align_content": null,
      "align_items": null,
      "align_self": null,
      "border": null,
      "bottom": null,
      "display": null,
      "flex": null,
      "flex_flow": null,
      "grid_area": null,
      "grid_auto_columns": null,
      "grid_auto_flow": null,
      "grid_auto_rows": null,
      "grid_column": null,
      "grid_gap": null,
      "grid_row": null,
      "grid_template_areas": null,
      "grid_template_columns": null,
      "grid_template_rows": null,
      "height": null,
      "justify_content": null,
      "justify_items": null,
      "left": null,
      "margin": null,
      "max_height": null,
      "max_width": null,
      "min_height": null,
      "min_width": null,
      "object_fit": null,
      "object_position": null,
      "order": null,
      "overflow": null,
      "overflow_x": null,
      "overflow_y": null,
      "padding": null,
      "right": null,
      "top": null,
      "visibility": null,
      "width": null
     }
    },
    "963f53c3cf404e7595dc554fc63d4df4": {
     "model_module": "@jupyter-widgets/controls",
     "model_name": "FloatProgressModel",
     "state": {
      "_dom_classes": [],
      "_model_module": "@jupyter-widgets/controls",
      "_model_module_version": "1.5.0",
      "_model_name": "FloatProgressModel",
      "_view_count": null,
      "_view_module": "@jupyter-widgets/controls",
      "_view_module_version": "1.5.0",
      "_view_name": "ProgressView",
      "bar_style": "success",
      "description": "100%",
      "description_tooltip": null,
      "layout": "IPY_MODEL_3aed8bcf8b564a48a638cadc0b0151e3",
      "max": 4995,
      "min": 0,
      "orientation": "horizontal",
      "style": "IPY_MODEL_6d40bb935de74b1499d2b33c8b7eca95",
      "value": 4995
     }
    },
    "98f0e71a7a914a7ba68a24b8f79d72fe": {
     "model_module": "@jupyter-widgets/controls",
     "model_name": "HTMLModel",
     "state": {
      "_dom_classes": [],
      "_model_module": "@jupyter-widgets/controls",
      "_model_module_version": "1.5.0",
      "_model_name": "HTMLModel",
      "_view_count": null,
      "_view_module": "@jupyter-widgets/controls",
      "_view_module_version": "1.5.0",
      "_view_name": "HTMLView",
      "description": "",
      "description_tooltip": null,
      "layout": "IPY_MODEL_224af8630019457ba874067c146f1bba",
      "placeholder": "​",
      "style": "IPY_MODEL_73cf070109c046a6ba833c860918b3df",
      "value": " 281/281 [01:18&lt;00:00,  3.59it/s, avg_val_loss=5.23, val_step_loss=5.73]"
     }
    },
    "9da5f0d18a72477db595f3fb5b404a4c": {
     "model_module": "@jupyter-widgets/controls",
     "model_name": "HBoxModel",
     "state": {
      "_dom_classes": [],
      "_model_module": "@jupyter-widgets/controls",
      "_model_module_version": "1.5.0",
      "_model_name": "HBoxModel",
      "_view_count": null,
      "_view_module": "@jupyter-widgets/controls",
      "_view_module_version": "1.5.0",
      "_view_name": "HBoxView",
      "box_style": "",
      "children": [
       "IPY_MODEL_fb257000c67142a9b2e7cac50f879922",
       "IPY_MODEL_cc1e493375c84e55a5e2e7640671d66b"
      ],
      "layout": "IPY_MODEL_7d17b5188a924dabbb4d4962d7b826ab"
     }
    },
    "a23d31de48ee4de99a6bfbe75d9d5382": {
     "model_module": "@jupyter-widgets/controls",
     "model_name": "HTMLModel",
     "state": {
      "_dom_classes": [],
      "_model_module": "@jupyter-widgets/controls",
      "_model_module_version": "1.5.0",
      "_model_name": "HTMLModel",
      "_view_count": null,
      "_view_module": "@jupyter-widgets/controls",
      "_view_module_version": "1.5.0",
      "_view_name": "HTMLView",
      "description": "",
      "description_tooltip": null,
      "layout": "IPY_MODEL_5b510735452c441f9a855ea43b2b3b6d",
      "placeholder": "​",
      "style": "IPY_MODEL_8cca36eca10f45a9bd48aa9360c49253",
      "value": " 1451/4995 [17:42&lt;41:15,  1.43it/s, avg_train_loss=4.9, train_step_loss=5.13]"
     }
    },
    "a6bc9d0d8020406f85570c441ebb03a9": {
     "model_module": "@jupyter-widgets/controls",
     "model_name": "FloatProgressModel",
     "state": {
      "_dom_classes": [],
      "_model_module": "@jupyter-widgets/controls",
      "_model_module_version": "1.5.0",
      "_model_name": "FloatProgressModel",
      "_view_count": null,
      "_view_module": "@jupyter-widgets/controls",
      "_view_module_version": "1.5.0",
      "_view_name": "ProgressView",
      "bar_style": "success",
      "description": "100%",
      "description_tooltip": null,
      "layout": "IPY_MODEL_dc4a36e3d20f466db30c766b9cad498e",
      "max": 40563,
      "min": 0,
      "orientation": "horizontal",
      "style": "IPY_MODEL_3d82364d3bef42fcb15d324891e709e3",
      "value": 40563
     }
    },
    "a6eb37f358354c1abd67c876691036c9": {
     "model_module": "@jupyter-widgets/controls",
     "model_name": "FloatProgressModel",
     "state": {
      "_dom_classes": [],
      "_model_module": "@jupyter-widgets/controls",
      "_model_module_version": "1.5.0",
      "_model_name": "FloatProgressModel",
      "_view_count": null,
      "_view_module": "@jupyter-widgets/controls",
      "_view_module_version": "1.5.0",
      "_view_name": "ProgressView",
      "bar_style": "success",
      "description": "100%",
      "description_tooltip": null,
      "layout": "IPY_MODEL_db68a029d1cf44ea901142753a0a63a1",
      "max": 2258,
      "min": 0,
      "orientation": "horizontal",
      "style": "IPY_MODEL_fb595b0e7fad4cf99bb5f226baaa56c6",
      "value": 2258
     }
    },
    "ac1cc59595cd40af90daa26387f853f0": {
     "model_module": "@jupyter-widgets/base",
     "model_name": "LayoutModel",
     "state": {
      "_model_module": "@jupyter-widgets/base",
      "_model_module_version": "1.2.0",
      "_model_name": "LayoutModel",
      "_view_count": null,
      "_view_module": "@jupyter-widgets/base",
      "_view_module_version": "1.2.0",
      "_view_name": "LayoutView",
      "align_content": null,
      "align_items": null,
      "align_self": null,
      "border": null,
      "bottom": null,
      "display": null,
      "flex": null,
      "flex_flow": null,
      "grid_area": null,
      "grid_auto_columns": null,
      "grid_auto_flow": null,
      "grid_auto_rows": null,
      "grid_column": null,
      "grid_gap": null,
      "grid_row": null,
      "grid_template_areas": null,
      "grid_template_columns": null,
      "grid_template_rows": null,
      "height": null,
      "justify_content": null,
      "justify_items": null,
      "left": null,
      "margin": null,
      "max_height": null,
      "max_width": null,
      "min_height": null,
      "min_width": null,
      "object_fit": null,
      "object_position": null,
      "order": null,
      "overflow": null,
      "overflow_x": null,
      "overflow_y": null,
      "padding": null,
      "right": null,
      "top": null,
      "visibility": null,
      "width": null
     }
    },
    "ad564ace58bc43738801d278055cf70b": {
     "model_module": "@jupyter-widgets/base",
     "model_name": "LayoutModel",
     "state": {
      "_model_module": "@jupyter-widgets/base",
      "_model_module_version": "1.2.0",
      "_model_name": "LayoutModel",
      "_view_count": null,
      "_view_module": "@jupyter-widgets/base",
      "_view_module_version": "1.2.0",
      "_view_name": "LayoutView",
      "align_content": null,
      "align_items": null,
      "align_self": null,
      "border": null,
      "bottom": null,
      "display": null,
      "flex": null,
      "flex_flow": null,
      "grid_area": null,
      "grid_auto_columns": null,
      "grid_auto_flow": null,
      "grid_auto_rows": null,
      "grid_column": null,
      "grid_gap": null,
      "grid_row": null,
      "grid_template_areas": null,
      "grid_template_columns": null,
      "grid_template_rows": null,
      "height": null,
      "justify_content": null,
      "justify_items": null,
      "left": null,
      "margin": null,
      "max_height": null,
      "max_width": null,
      "min_height": null,
      "min_width": null,
      "object_fit": null,
      "object_position": null,
      "order": null,
      "overflow": null,
      "overflow_x": null,
      "overflow_y": null,
      "padding": null,
      "right": null,
      "top": null,
      "visibility": null,
      "width": null
     }
    },
    "b05d914f44bb4a269383636295f0ddfe": {
     "model_module": "@jupyter-widgets/controls",
     "model_name": "DescriptionStyleModel",
     "state": {
      "_model_module": "@jupyter-widgets/controls",
      "_model_module_version": "1.5.0",
      "_model_name": "DescriptionStyleModel",
      "_view_count": null,
      "_view_module": "@jupyter-widgets/base",
      "_view_module_version": "1.2.0",
      "_view_name": "StyleView",
      "description_width": ""
     }
    },
    "b3974ec9f1be45fcae9f3ac5dd43af5e": {
     "model_module": "@jupyter-widgets/base",
     "model_name": "LayoutModel",
     "state": {
      "_model_module": "@jupyter-widgets/base",
      "_model_module_version": "1.2.0",
      "_model_name": "LayoutModel",
      "_view_count": null,
      "_view_module": "@jupyter-widgets/base",
      "_view_module_version": "1.2.0",
      "_view_name": "LayoutView",
      "align_content": null,
      "align_items": null,
      "align_self": null,
      "border": null,
      "bottom": null,
      "display": null,
      "flex": null,
      "flex_flow": null,
      "grid_area": null,
      "grid_auto_columns": null,
      "grid_auto_flow": null,
      "grid_auto_rows": null,
      "grid_column": null,
      "grid_gap": null,
      "grid_row": null,
      "grid_template_areas": null,
      "grid_template_columns": null,
      "grid_template_rows": null,
      "height": null,
      "justify_content": null,
      "justify_items": null,
      "left": null,
      "margin": null,
      "max_height": null,
      "max_width": null,
      "min_height": null,
      "min_width": null,
      "object_fit": null,
      "object_position": null,
      "order": null,
      "overflow": null,
      "overflow_x": null,
      "overflow_y": null,
      "padding": null,
      "right": null,
      "top": null,
      "visibility": null,
      "width": null
     }
    },
    "bbce2ecea1d8484b97377ebc9aab5a55": {
     "model_module": "@jupyter-widgets/controls",
     "model_name": "HBoxModel",
     "state": {
      "_dom_classes": [],
      "_model_module": "@jupyter-widgets/controls",
      "_model_module_version": "1.5.0",
      "_model_name": "HBoxModel",
      "_view_count": null,
      "_view_module": "@jupyter-widgets/controls",
      "_view_module_version": "1.5.0",
      "_view_name": "HBoxView",
      "box_style": "",
      "children": [
       "IPY_MODEL_d958317e72594ba8990df000f53ffa3b",
       "IPY_MODEL_18459f31bb9543aa8ad3c2420e134ab2"
      ],
      "layout": "IPY_MODEL_34cd929da6c244b4a4d5cb7dbb1a2e0a"
     }
    },
    "bd97154633b2421bb3f478889c5c58f7": {
     "model_module": "@jupyter-widgets/controls",
     "model_name": "ProgressStyleModel",
     "state": {
      "_model_module": "@jupyter-widgets/controls",
      "_model_module_version": "1.5.0",
      "_model_name": "ProgressStyleModel",
      "_view_count": null,
      "_view_module": "@jupyter-widgets/base",
      "_view_module_version": "1.2.0",
      "_view_name": "StyleView",
      "bar_color": null,
      "description_width": "initial"
     }
    },
    "c11e5211a0854a82978fef8e72d2b3ee": {
     "model_module": "@jupyter-widgets/base",
     "model_name": "LayoutModel",
     "state": {
      "_model_module": "@jupyter-widgets/base",
      "_model_module_version": "1.2.0",
      "_model_name": "LayoutModel",
      "_view_count": null,
      "_view_module": "@jupyter-widgets/base",
      "_view_module_version": "1.2.0",
      "_view_name": "LayoutView",
      "align_content": null,
      "align_items": null,
      "align_self": null,
      "border": null,
      "bottom": null,
      "display": null,
      "flex": null,
      "flex_flow": null,
      "grid_area": null,
      "grid_auto_columns": null,
      "grid_auto_flow": null,
      "grid_auto_rows": null,
      "grid_column": null,
      "grid_gap": null,
      "grid_row": null,
      "grid_template_areas": null,
      "grid_template_columns": null,
      "grid_template_rows": null,
      "height": null,
      "justify_content": null,
      "justify_items": null,
      "left": null,
      "margin": null,
      "max_height": null,
      "max_width": null,
      "min_height": null,
      "min_width": null,
      "object_fit": null,
      "object_position": null,
      "order": null,
      "overflow": null,
      "overflow_x": null,
      "overflow_y": null,
      "padding": null,
      "right": null,
      "top": null,
      "visibility": null,
      "width": null
     }
    },
    "c211b46cfe6f4f90b762aad20f7ee2b9": {
     "model_module": "@jupyter-widgets/controls",
     "model_name": "ProgressStyleModel",
     "state": {
      "_model_module": "@jupyter-widgets/controls",
      "_model_module_version": "1.5.0",
      "_model_name": "ProgressStyleModel",
      "_view_count": null,
      "_view_module": "@jupyter-widgets/base",
      "_view_module_version": "1.2.0",
      "_view_name": "StyleView",
      "bar_color": null,
      "description_width": "initial"
     }
    },
    "c577f0e201ca40b9b6cfedd733b4ef20": {
     "model_module": "@jupyter-widgets/controls",
     "model_name": "ProgressStyleModel",
     "state": {
      "_model_module": "@jupyter-widgets/controls",
      "_model_module_version": "1.5.0",
      "_model_name": "ProgressStyleModel",
      "_view_count": null,
      "_view_module": "@jupyter-widgets/base",
      "_view_module_version": "1.2.0",
      "_view_name": "StyleView",
      "bar_color": null,
      "description_width": "initial"
     }
    },
    "cc1e493375c84e55a5e2e7640671d66b": {
     "model_module": "@jupyter-widgets/controls",
     "model_name": "HTMLModel",
     "state": {
      "_dom_classes": [],
      "_model_module": "@jupyter-widgets/controls",
      "_model_module_version": "1.5.0",
      "_model_name": "HTMLModel",
      "_view_count": null,
      "_view_module": "@jupyter-widgets/controls",
      "_view_module_version": "1.5.0",
      "_view_name": "HTMLView",
      "description": "",
      "description_tooltip": null,
      "layout": "IPY_MODEL_1bd81390f4d7430e981c1f13a1c79d7f",
      "placeholder": "​",
      "style": "IPY_MODEL_41836f7bf92c4cc5b7d0ed6753d7566f",
      "value": " 2203/2203 [00:22&lt;00:00, 99.20it/s]"
     }
    },
    "cce045e884bd4aac874bc110c14e33b0": {
     "model_module": "@jupyter-widgets/controls",
     "model_name": "DescriptionStyleModel",
     "state": {
      "_model_module": "@jupyter-widgets/controls",
      "_model_module_version": "1.5.0",
      "_model_name": "DescriptionStyleModel",
      "_view_count": null,
      "_view_module": "@jupyter-widgets/base",
      "_view_module_version": "1.2.0",
      "_view_name": "StyleView",
      "description_width": ""
     }
    },
    "cdc8cb62d0e1416e90c791544be95f66": {
     "model_module": "@jupyter-widgets/controls",
     "model_name": "DescriptionStyleModel",
     "state": {
      "_model_module": "@jupyter-widgets/controls",
      "_model_module_version": "1.5.0",
      "_model_name": "DescriptionStyleModel",
      "_view_count": null,
      "_view_module": "@jupyter-widgets/base",
      "_view_module_version": "1.2.0",
      "_view_name": "StyleView",
      "description_width": ""
     }
    },
    "d4c264c0f19a4265af7148ac0814b48d": {
     "model_module": "@jupyter-widgets/base",
     "model_name": "LayoutModel",
     "state": {
      "_model_module": "@jupyter-widgets/base",
      "_model_module_version": "1.2.0",
      "_model_name": "LayoutModel",
      "_view_count": null,
      "_view_module": "@jupyter-widgets/base",
      "_view_module_version": "1.2.0",
      "_view_name": "LayoutView",
      "align_content": null,
      "align_items": null,
      "align_self": null,
      "border": null,
      "bottom": null,
      "display": null,
      "flex": null,
      "flex_flow": null,
      "grid_area": null,
      "grid_auto_columns": null,
      "grid_auto_flow": null,
      "grid_auto_rows": null,
      "grid_column": null,
      "grid_gap": null,
      "grid_row": null,
      "grid_template_areas": null,
      "grid_template_columns": null,
      "grid_template_rows": null,
      "height": null,
      "justify_content": null,
      "justify_items": null,
      "left": null,
      "margin": null,
      "max_height": null,
      "max_width": null,
      "min_height": null,
      "min_width": null,
      "object_fit": null,
      "object_position": null,
      "order": null,
      "overflow": null,
      "overflow_x": null,
      "overflow_y": null,
      "padding": null,
      "right": null,
      "top": null,
      "visibility": null,
      "width": null
     }
    },
    "d83f2d363c544aadb23733b705a508e3": {
     "model_module": "@jupyter-widgets/controls",
     "model_name": "ProgressStyleModel",
     "state": {
      "_model_module": "@jupyter-widgets/controls",
      "_model_module_version": "1.5.0",
      "_model_name": "ProgressStyleModel",
      "_view_count": null,
      "_view_module": "@jupyter-widgets/base",
      "_view_module_version": "1.2.0",
      "_view_name": "StyleView",
      "bar_color": null,
      "description_width": "initial"
     }
    },
    "d958317e72594ba8990df000f53ffa3b": {
     "model_module": "@jupyter-widgets/controls",
     "model_name": "FloatProgressModel",
     "state": {
      "_dom_classes": [],
      "_model_module": "@jupyter-widgets/controls",
      "_model_module_version": "1.5.0",
      "_model_name": "FloatProgressModel",
      "_view_count": null,
      "_view_module": "@jupyter-widgets/controls",
      "_view_module_version": "1.5.0",
      "_view_name": "ProgressView",
      "bar_style": "success",
      "description": "100%",
      "description_tooltip": null,
      "layout": "IPY_MODEL_1ce0ebb938304d5cafa1b5f23f8ecf69",
      "max": 39957,
      "min": 0,
      "orientation": "horizontal",
      "style": "IPY_MODEL_6e82cf5b42184e078e10c342adbf0fca",
      "value": 39957
     }
    },
    "db68a029d1cf44ea901142753a0a63a1": {
     "model_module": "@jupyter-widgets/base",
     "model_name": "LayoutModel",
     "state": {
      "_model_module": "@jupyter-widgets/base",
      "_model_module_version": "1.2.0",
      "_model_name": "LayoutModel",
      "_view_count": null,
      "_view_module": "@jupyter-widgets/base",
      "_view_module_version": "1.2.0",
      "_view_name": "LayoutView",
      "align_content": null,
      "align_items": null,
      "align_self": null,
      "border": null,
      "bottom": null,
      "display": null,
      "flex": null,
      "flex_flow": null,
      "grid_area": null,
      "grid_auto_columns": null,
      "grid_auto_flow": null,
      "grid_auto_rows": null,
      "grid_column": null,
      "grid_gap": null,
      "grid_row": null,
      "grid_template_areas": null,
      "grid_template_columns": null,
      "grid_template_rows": null,
      "height": null,
      "justify_content": null,
      "justify_items": null,
      "left": null,
      "margin": null,
      "max_height": null,
      "max_width": null,
      "min_height": null,
      "min_width": null,
      "object_fit": null,
      "object_position": null,
      "order": null,
      "overflow": null,
      "overflow_x": null,
      "overflow_y": null,
      "padding": null,
      "right": null,
      "top": null,
      "visibility": null,
      "width": null
     }
    },
    "dbfe2779d8be4d1882e2e8567b96d1b1": {
     "model_module": "@jupyter-widgets/base",
     "model_name": "LayoutModel",
     "state": {
      "_model_module": "@jupyter-widgets/base",
      "_model_module_version": "1.2.0",
      "_model_name": "LayoutModel",
      "_view_count": null,
      "_view_module": "@jupyter-widgets/base",
      "_view_module_version": "1.2.0",
      "_view_name": "LayoutView",
      "align_content": null,
      "align_items": null,
      "align_self": null,
      "border": null,
      "bottom": null,
      "display": null,
      "flex": null,
      "flex_flow": null,
      "grid_area": null,
      "grid_auto_columns": null,
      "grid_auto_flow": null,
      "grid_auto_rows": null,
      "grid_column": null,
      "grid_gap": null,
      "grid_row": null,
      "grid_template_areas": null,
      "grid_template_columns": null,
      "grid_template_rows": null,
      "height": null,
      "justify_content": null,
      "justify_items": null,
      "left": null,
      "margin": null,
      "max_height": null,
      "max_width": null,
      "min_height": null,
      "min_width": null,
      "object_fit": null,
      "object_position": null,
      "order": null,
      "overflow": null,
      "overflow_x": null,
      "overflow_y": null,
      "padding": null,
      "right": null,
      "top": null,
      "visibility": null,
      "width": null
     }
    },
    "dc4a36e3d20f466db30c766b9cad498e": {
     "model_module": "@jupyter-widgets/base",
     "model_name": "LayoutModel",
     "state": {
      "_model_module": "@jupyter-widgets/base",
      "_model_module_version": "1.2.0",
      "_model_name": "LayoutModel",
      "_view_count": null,
      "_view_module": "@jupyter-widgets/base",
      "_view_module_version": "1.2.0",
      "_view_name": "LayoutView",
      "align_content": null,
      "align_items": null,
      "align_self": null,
      "border": null,
      "bottom": null,
      "display": null,
      "flex": null,
      "flex_flow": null,
      "grid_area": null,
      "grid_auto_columns": null,
      "grid_auto_flow": null,
      "grid_auto_rows": null,
      "grid_column": null,
      "grid_gap": null,
      "grid_row": null,
      "grid_template_areas": null,
      "grid_template_columns": null,
      "grid_template_rows": null,
      "height": null,
      "justify_content": null,
      "justify_items": null,
      "left": null,
      "margin": null,
      "max_height": null,
      "max_width": null,
      "min_height": null,
      "min_width": null,
      "object_fit": null,
      "object_position": null,
      "order": null,
      "overflow": null,
      "overflow_x": null,
      "overflow_y": null,
      "padding": null,
      "right": null,
      "top": null,
      "visibility": null,
      "width": null
     }
    },
    "de2624bf5c7e4e1aaccdf867efced9f9": {
     "model_module": "@jupyter-widgets/controls",
     "model_name": "FloatProgressModel",
     "state": {
      "_dom_classes": [],
      "_model_module": "@jupyter-widgets/controls",
      "_model_module_version": "1.5.0",
      "_model_name": "FloatProgressModel",
      "_view_count": null,
      "_view_module": "@jupyter-widgets/controls",
      "_view_module_version": "1.5.0",
      "_view_name": "ProgressView",
      "bar_style": "success",
      "description": "100%",
      "description_tooltip": null,
      "layout": "IPY_MODEL_8f0d023d16b840379f397ac8e7c3493c",
      "max": 281,
      "min": 0,
      "orientation": "horizontal",
      "style": "IPY_MODEL_c577f0e201ca40b9b6cfedd733b4ef20",
      "value": 281
     }
    },
    "e4dcef5e456c4b3588f3c23289243291": {
     "model_module": "@jupyter-widgets/controls",
     "model_name": "DescriptionStyleModel",
     "state": {
      "_model_module": "@jupyter-widgets/controls",
      "_model_module_version": "1.5.0",
      "_model_name": "DescriptionStyleModel",
      "_view_count": null,
      "_view_module": "@jupyter-widgets/base",
      "_view_module_version": "1.2.0",
      "_view_name": "StyleView",
      "description_width": ""
     }
    },
    "e8d7607d2b8e40f88e2b433e3d649e21": {
     "model_module": "@jupyter-widgets/base",
     "model_name": "LayoutModel",
     "state": {
      "_model_module": "@jupyter-widgets/base",
      "_model_module_version": "1.2.0",
      "_model_name": "LayoutModel",
      "_view_count": null,
      "_view_module": "@jupyter-widgets/base",
      "_view_module_version": "1.2.0",
      "_view_name": "LayoutView",
      "align_content": null,
      "align_items": null,
      "align_self": null,
      "border": null,
      "bottom": null,
      "display": null,
      "flex": null,
      "flex_flow": null,
      "grid_area": null,
      "grid_auto_columns": null,
      "grid_auto_flow": null,
      "grid_auto_rows": null,
      "grid_column": null,
      "grid_gap": null,
      "grid_row": null,
      "grid_template_areas": null,
      "grid_template_columns": null,
      "grid_template_rows": null,
      "height": null,
      "justify_content": null,
      "justify_items": null,
      "left": null,
      "margin": null,
      "max_height": null,
      "max_width": null,
      "min_height": null,
      "min_width": null,
      "object_fit": null,
      "object_position": null,
      "order": null,
      "overflow": null,
      "overflow_x": null,
      "overflow_y": null,
      "padding": null,
      "right": null,
      "top": null,
      "visibility": null,
      "width": null
     }
    },
    "ec01cb9d81b947d395a473dba7a0be06": {
     "model_module": "@jupyter-widgets/controls",
     "model_name": "DescriptionStyleModel",
     "state": {
      "_model_module": "@jupyter-widgets/controls",
      "_model_module_version": "1.5.0",
      "_model_name": "DescriptionStyleModel",
      "_view_count": null,
      "_view_module": "@jupyter-widgets/base",
      "_view_module_version": "1.2.0",
      "_view_name": "StyleView",
      "description_width": ""
     }
    },
    "f6d62ccd9c624855bb953f060020a79b": {
     "model_module": "@jupyter-widgets/controls",
     "model_name": "HTMLModel",
     "state": {
      "_dom_classes": [],
      "_model_module": "@jupyter-widgets/controls",
      "_model_module_version": "1.5.0",
      "_model_name": "HTMLModel",
      "_view_count": null,
      "_view_module": "@jupyter-widgets/controls",
      "_view_module_version": "1.5.0",
      "_view_name": "HTMLView",
      "description": "",
      "description_tooltip": null,
      "layout": "IPY_MODEL_4cac3adb7ea2492882f11a42f8558189",
      "placeholder": "​",
      "style": "IPY_MODEL_0170fe02467340fb8bfcf58f0f59813d",
      "value": " 2241/2241 [00:00&lt;00:00, 5295.56it/s]"
     }
    },
    "fb257000c67142a9b2e7cac50f879922": {
     "model_module": "@jupyter-widgets/controls",
     "model_name": "FloatProgressModel",
     "state": {
      "_dom_classes": [],
      "_model_module": "@jupyter-widgets/controls",
      "_model_module_version": "1.5.0",
      "_model_name": "FloatProgressModel",
      "_view_count": null,
      "_view_module": "@jupyter-widgets/controls",
      "_view_module_version": "1.5.0",
      "_view_name": "ProgressView",
      "bar_style": "success",
      "description": "100%",
      "description_tooltip": null,
      "layout": "IPY_MODEL_464a8630bb5344be9af17d2e3b234544",
      "max": 2203,
      "min": 0,
      "orientation": "horizontal",
      "style": "IPY_MODEL_851cf5a5b35142299d2761f0742841a6",
      "value": 2203
     }
    },
    "fb595b0e7fad4cf99bb5f226baaa56c6": {
     "model_module": "@jupyter-widgets/controls",
     "model_name": "ProgressStyleModel",
     "state": {
      "_model_module": "@jupyter-widgets/controls",
      "_model_module_version": "1.5.0",
      "_model_name": "ProgressStyleModel",
      "_view_count": null,
      "_view_module": "@jupyter-widgets/base",
      "_view_module_version": "1.2.0",
      "_view_name": "StyleView",
      "bar_color": null,
      "description_width": "initial"
     }
    },
    "fcf0e7e96aec45c8b5433524e769c957": {
     "model_module": "@jupyter-widgets/controls",
     "model_name": "HTMLModel",
     "state": {
      "_dom_classes": [],
      "_model_module": "@jupyter-widgets/controls",
      "_model_module_version": "1.5.0",
      "_model_name": "HTMLModel",
      "_view_count": null,
      "_view_module": "@jupyter-widgets/controls",
      "_view_module_version": "1.5.0",
      "_view_name": "HTMLView",
      "description": "",
      "description_tooltip": null,
      "layout": "IPY_MODEL_8449169063654aca906068acff76652d",
      "placeholder": "​",
      "style": "IPY_MODEL_e4dcef5e456c4b3588f3c23289243291",
      "value": " 39957/39957 [57:24&lt;00:00, 11.60it/s]"
     }
    }
   }
  }
 },
 "nbformat": 4,
 "nbformat_minor": 1
}
